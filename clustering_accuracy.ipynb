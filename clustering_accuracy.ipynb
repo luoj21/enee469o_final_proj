{
 "cells": [
  {
   "cell_type": "code",
   "execution_count": 1,
   "id": "29b21af0",
   "metadata": {},
   "outputs": [],
   "source": [
    "import numpy as np\n",
    "import matplotlib.pyplot as plt\n",
    "import seaborn as sns\n",
    "\n",
    "from utils import plot_confusion_matrix, compute_sparsity\n",
    "from sklearn.cluster import KMeans\n",
    "from ucimlrepo import fetch_ucirepo\n",
    "from convex_nmf import convex_nmf\n",
    "from sklearn.metrics import accuracy_score"
   ]
  },
  {
   "cell_type": "code",
   "execution_count": 2,
   "id": "e6ced023",
   "metadata": {},
   "outputs": [],
   "source": [
    "# fetch dataset \n",
    "ionosphere = fetch_ucirepo(id=52) \n",
    "  \n",
    "# data (as pandas dataframes) \n",
    "X = ionosphere.data.features # num_samples x num_features\n",
    "y = ionosphere.data.targets\n",
    "y = [1 if label == 'g' else 0 for label in y['Class']]"
   ]
  },
  {
   "cell_type": "code",
   "execution_count": 3,
   "id": "f923ec7b",
   "metadata": {},
   "outputs": [
    {
     "name": "stdout",
     "output_type": "stream",
     "text": [
      "Total iterations for kmeans: 4. Accuracy on iteration 0: 0.7122507122507122\n",
      "Total iterations for kmeans: 5. Accuracy on iteration 1: 0.2905982905982906\n",
      "Total iterations for kmeans: 5. Accuracy on iteration 2: 0.28774928774928776\n",
      "Total iterations for kmeans: 6. Accuracy on iteration 3: 0.28774928774928776\n",
      "Total iterations for kmeans: 6. Accuracy on iteration 4: 0.7122507122507122\n",
      "Total iterations for kmeans: 7. Accuracy on iteration 5: 0.2905982905982906\n",
      "Total iterations for kmeans: 9. Accuracy on iteration 6: 0.28774928774928776\n",
      "Total iterations for kmeans: 14. Accuracy on iteration 7: 0.28774928774928776\n",
      "Total iterations for kmeans: 5. Accuracy on iteration 8: 0.7122507122507122\n",
      "Total iterations for kmeans: 13. Accuracy on iteration 9: 0.7122507122507122\n",
      "Total iterations for kmeans: 5. Accuracy on iteration 10: 0.2905982905982906\n",
      "Total iterations for kmeans: 5. Accuracy on iteration 11: 0.7094017094017094\n",
      "Total iterations for kmeans: 5. Accuracy on iteration 12: 0.28774928774928776\n",
      "Total iterations for kmeans: 4. Accuracy on iteration 13: 0.2905982905982906\n",
      "Total iterations for kmeans: 8. Accuracy on iteration 14: 0.7094017094017094\n",
      "Total iterations for kmeans: 5. Accuracy on iteration 15: 0.7122507122507122\n",
      "Total iterations for kmeans: 8. Accuracy on iteration 16: 0.28774928774928776\n",
      "Total iterations for kmeans: 7. Accuracy on iteration 17: 0.7122507122507122\n",
      "Total iterations for kmeans: 4. Accuracy on iteration 18: 0.7122507122507122\n",
      "Total iterations for kmeans: 6. Accuracy on iteration 19: 0.7122507122507122\n",
      "Total iterations for kmeans: 6. Accuracy on iteration 20: 0.2905982905982906\n",
      "Total iterations for kmeans: 9. Accuracy on iteration 21: 0.7122507122507122\n",
      "Total iterations for kmeans: 5. Accuracy on iteration 22: 0.28774928774928776\n",
      "Total iterations for kmeans: 8. Accuracy on iteration 23: 0.7122507122507122\n",
      "Total iterations for kmeans: 10. Accuracy on iteration 24: 0.28774928774928776\n",
      "Total iterations for kmeans: 7. Accuracy on iteration 25: 0.7122507122507122\n",
      "Total iterations for kmeans: 8. Accuracy on iteration 26: 0.28774928774928776\n",
      "Total iterations for kmeans: 10. Accuracy on iteration 27: 0.7122507122507122\n",
      "Total iterations for kmeans: 7. Accuracy on iteration 28: 0.28774928774928776\n",
      "Total iterations for kmeans: 4. Accuracy on iteration 29: 0.7094017094017094\n",
      "Total iterations for kmeans: 4. Accuracy on iteration 30: 0.28774928774928776\n",
      "Total iterations for kmeans: 5. Accuracy on iteration 31: 0.7094017094017094\n",
      "Total iterations for kmeans: 6. Accuracy on iteration 32: 0.7122507122507122\n",
      "Total iterations for kmeans: 9. Accuracy on iteration 33: 0.28774928774928776\n",
      "Total iterations for kmeans: 8. Accuracy on iteration 34: 0.28774928774928776\n",
      "Total iterations for kmeans: 6. Accuracy on iteration 35: 0.7122507122507122\n",
      "Total iterations for kmeans: 3. Accuracy on iteration 36: 0.2905982905982906\n",
      "Total iterations for kmeans: 8. Accuracy on iteration 37: 0.28774928774928776\n",
      "Total iterations for kmeans: 8. Accuracy on iteration 38: 0.28774928774928776\n",
      "Total iterations for kmeans: 5. Accuracy on iteration 39: 0.28774928774928776\n",
      "Total iterations for kmeans: 9. Accuracy on iteration 40: 0.7122507122507122\n",
      "Total iterations for kmeans: 6. Accuracy on iteration 41: 0.2905982905982906\n",
      "Total iterations for kmeans: 6. Accuracy on iteration 42: 0.7122507122507122\n",
      "Total iterations for kmeans: 2. Accuracy on iteration 43: 0.3561253561253561\n",
      "Total iterations for kmeans: 6. Accuracy on iteration 44: 0.2905982905982906\n",
      "Total iterations for kmeans: 10. Accuracy on iteration 45: 0.28774928774928776\n",
      "Total iterations for kmeans: 9. Accuracy on iteration 46: 0.28774928774928776\n",
      "Total iterations for kmeans: 8. Accuracy on iteration 47: 0.7122507122507122\n",
      "Total iterations for kmeans: 7. Accuracy on iteration 48: 0.28774928774928776\n",
      "Total iterations for kmeans: 5. Accuracy on iteration 49: 0.28774928774928776\n",
      "Average accuracy: 0.46763532763532767\n"
     ]
    }
   ],
   "source": [
    "kmeans_clustering_accuracies = []\n",
    "random_state = 22\n",
    "for i in range(50):\n",
    "    kmeans = KMeans(n_clusters=2, tol = 0.001, random_state = random_state * i)\n",
    "    kmeans_labels = kmeans.fit_predict(X)\n",
    "    #plot_confusion_matrix(y_true = y, y_pred = kmeans_labels, normalize = True)\n",
    "    accuracy = accuracy_score(y_true = y, y_pred = kmeans_labels)\n",
    "    print(f\"Total iterations for kmeans: {kmeans.n_iter_}. Accuracy on iteration {i}: {accuracy}\")\n",
    "    kmeans_clustering_accuracies.append(accuracy)\n",
    "\n",
    "print(f'Average accuracy: {np.mean(kmeans_clustering_accuracies)}')"
   ]
  },
  {
   "cell_type": "code",
   "execution_count": 5,
   "id": "8e20346a",
   "metadata": {},
   "outputs": [
    {
     "name": "stderr",
     "output_type": "stream",
     "text": [
      "  1%|          | 34/5000 [00:00<00:10, 461.79it/s]\n"
     ]
    },
    {
     "name": "stdout",
     "output_type": "stream",
     "text": [
      "Relative error at iteration 10: 0.0020993245931661465\n",
      "Relative error at iteration 20: 0.0003533896788895704\n",
      "Relative error at iteration 30: 0.0001300120866598159\n",
      "Convergence achieved at iteration 34...\n",
      "Accuracy on iteration 0: 0.6210826210826211\n"
     ]
    },
    {
     "name": "stderr",
     "output_type": "stream",
     "text": [
      "  1%|          | 34/5000 [00:00<00:07, 667.31it/s]\n"
     ]
    },
    {
     "name": "stdout",
     "output_type": "stream",
     "text": [
      "Relative error at iteration 10: 0.002126421967671443\n",
      "Relative error at iteration 20: 0.0003553023703580548\n",
      "Relative error at iteration 30: 0.00013011131771585487\n",
      "Convergence achieved at iteration 34...\n",
      "Accuracy on iteration 1: 0.3789173789173789\n"
     ]
    },
    {
     "name": "stderr",
     "output_type": "stream",
     "text": [
      "  1%|          | 34/5000 [00:00<00:08, 610.08it/s]\n"
     ]
    },
    {
     "name": "stdout",
     "output_type": "stream",
     "text": [
      "Relative error at iteration 10: 0.0020993245931663616\n",
      "Relative error at iteration 20: 0.0003533896788895704\n",
      "Relative error at iteration 30: 0.00013001208666003376\n",
      "Convergence achieved at iteration 34...\n",
      "Accuracy on iteration 2: 0.3789173789173789\n"
     ]
    },
    {
     "name": "stderr",
     "output_type": "stream",
     "text": [
      "  0%|          | 0/5000 [00:00<?, ?it/s]"
     ]
    },
    {
     "name": "stdout",
     "output_type": "stream",
     "text": [
      "Relative error at iteration 10: 0.0020993245931663616\n",
      "Relative error at iteration 20: 0.0003533896788895704\n"
     ]
    },
    {
     "name": "stderr",
     "output_type": "stream",
     "text": [
      "  1%|          | 34/5000 [00:00<00:08, 568.18it/s]\n"
     ]
    },
    {
     "name": "stdout",
     "output_type": "stream",
     "text": [
      "Relative error at iteration 30: 0.00013001208666003376\n",
      "Convergence achieved at iteration 34...\n",
      "Accuracy on iteration 3: 0.3789173789173789\n"
     ]
    },
    {
     "name": "stderr",
     "output_type": "stream",
     "text": [
      "  0%|          | 0/5000 [00:00<?, ?it/s]"
     ]
    },
    {
     "name": "stdout",
     "output_type": "stream",
     "text": [
      "Relative error at iteration 10: 0.0020993245931661465\n",
      "Relative error at iteration 20: 0.0003533896788895704\n"
     ]
    },
    {
     "name": "stderr",
     "output_type": "stream",
     "text": [
      "  1%|          | 34/5000 [00:00<00:08, 573.10it/s]\n"
     ]
    },
    {
     "name": "stdout",
     "output_type": "stream",
     "text": [
      "Relative error at iteration 30: 0.0001300120866598159\n",
      "Convergence achieved at iteration 34...\n",
      "Accuracy on iteration 4: 0.6210826210826211\n"
     ]
    },
    {
     "name": "stderr",
     "output_type": "stream",
     "text": [
      "  0%|          | 0/5000 [00:00<?, ?it/s]"
     ]
    },
    {
     "name": "stdout",
     "output_type": "stream",
     "text": [
      "Relative error at iteration 10: 0.002126421967671443\n"
     ]
    },
    {
     "name": "stderr",
     "output_type": "stream",
     "text": [
      "  1%|          | 34/5000 [00:00<00:08, 575.68it/s]\n"
     ]
    },
    {
     "name": "stdout",
     "output_type": "stream",
     "text": [
      "Relative error at iteration 20: 0.0003553023703580548\n",
      "Relative error at iteration 30: 0.00013011131771585487\n",
      "Convergence achieved at iteration 34...\n",
      "Accuracy on iteration 5: 0.3789173789173789\n"
     ]
    },
    {
     "name": "stderr",
     "output_type": "stream",
     "text": [
      "  0%|          | 0/5000 [00:00<?, ?it/s]"
     ]
    },
    {
     "name": "stdout",
     "output_type": "stream",
     "text": [
      "Relative error at iteration 10: 0.0020993245931663616\n"
     ]
    },
    {
     "name": "stderr",
     "output_type": "stream",
     "text": [
      "  1%|          | 34/5000 [00:00<00:08, 579.55it/s]"
     ]
    },
    {
     "name": "stdout",
     "output_type": "stream",
     "text": [
      "Relative error at iteration 20: 0.0003533896788895704\n",
      "Relative error at iteration 30: 0.00013001208666003376\n",
      "Convergence achieved at iteration 34...\n",
      "Accuracy on iteration 6: 0.3789173789173789\n"
     ]
    },
    {
     "name": "stderr",
     "output_type": "stream",
     "text": [
      "\n",
      "  0%|          | 0/5000 [00:00<?, ?it/s]"
     ]
    },
    {
     "name": "stdout",
     "output_type": "stream",
     "text": [
      "Relative error at iteration 10: 0.0020993245931663616\n",
      "Relative error at iteration 20: 0.0003533896788895704\n"
     ]
    },
    {
     "name": "stderr",
     "output_type": "stream",
     "text": [
      "  1%|          | 34/5000 [00:00<00:12, 412.45it/s]\n"
     ]
    },
    {
     "name": "stdout",
     "output_type": "stream",
     "text": [
      "Relative error at iteration 30: 0.00013001208666003376\n",
      "Convergence achieved at iteration 34...\n",
      "Accuracy on iteration 7: 0.3789173789173789\n"
     ]
    },
    {
     "name": "stderr",
     "output_type": "stream",
     "text": [
      "  0%|          | 0/5000 [00:00<?, ?it/s]"
     ]
    },
    {
     "name": "stdout",
     "output_type": "stream",
     "text": [
      "Relative error at iteration 10: 0.0020993245931661465\n"
     ]
    },
    {
     "name": "stderr",
     "output_type": "stream",
     "text": [
      "  1%|          | 34/5000 [00:00<00:08, 594.49it/s]\n"
     ]
    },
    {
     "name": "stdout",
     "output_type": "stream",
     "text": [
      "Relative error at iteration 20: 0.0003533896788895704\n",
      "Relative error at iteration 30: 0.0001300120866598159\n",
      "Convergence achieved at iteration 34...\n",
      "Accuracy on iteration 8: 0.6210826210826211\n"
     ]
    },
    {
     "name": "stderr",
     "output_type": "stream",
     "text": [
      "  0%|          | 0/5000 [00:00<?, ?it/s]"
     ]
    },
    {
     "name": "stdout",
     "output_type": "stream",
     "text": [
      "Relative error at iteration 10: 0.0020993245931661465\n"
     ]
    },
    {
     "name": "stderr",
     "output_type": "stream",
     "text": [
      "  1%|          | 34/5000 [00:00<00:07, 662.07it/s]\n"
     ]
    },
    {
     "name": "stdout",
     "output_type": "stream",
     "text": [
      "Relative error at iteration 20: 0.0003533896788895704\n",
      "Relative error at iteration 30: 0.0001300120866598159\n",
      "Convergence achieved at iteration 34...\n",
      "Accuracy on iteration 9: 0.6210826210826211\n"
     ]
    },
    {
     "name": "stderr",
     "output_type": "stream",
     "text": [
      "  0%|          | 0/5000 [00:00<?, ?it/s]"
     ]
    },
    {
     "name": "stdout",
     "output_type": "stream",
     "text": [
      "Relative error at iteration 10: 0.002126421967671443\n",
      "Relative error at iteration 20: 0.0003553023703580548\n"
     ]
    },
    {
     "name": "stderr",
     "output_type": "stream",
     "text": [
      "  1%|          | 34/5000 [00:00<00:07, 625.84it/s]\n"
     ]
    },
    {
     "name": "stdout",
     "output_type": "stream",
     "text": [
      "Relative error at iteration 30: 0.00013011131771585487\n",
      "Convergence achieved at iteration 34...\n",
      "Accuracy on iteration 10: 0.3789173789173789\n"
     ]
    },
    {
     "name": "stderr",
     "output_type": "stream",
     "text": [
      "  0%|          | 0/5000 [00:00<?, ?it/s]"
     ]
    },
    {
     "name": "stdout",
     "output_type": "stream",
     "text": [
      "Relative error at iteration 10: 0.002126421967671443\n",
      "Relative error at iteration 20: 0.0003553023703580548\n",
      "Relative error at iteration 30: 0.00013011131771585487\n"
     ]
    },
    {
     "name": "stderr",
     "output_type": "stream",
     "text": [
      "  1%|          | 34/5000 [00:00<00:09, 537.60it/s]\n"
     ]
    },
    {
     "name": "stdout",
     "output_type": "stream",
     "text": [
      "Convergence achieved at iteration 34...\n",
      "Accuracy on iteration 11: 0.6210826210826211\n"
     ]
    },
    {
     "name": "stderr",
     "output_type": "stream",
     "text": [
      "  0%|          | 0/5000 [00:00<?, ?it/s]"
     ]
    },
    {
     "name": "stdout",
     "output_type": "stream",
     "text": [
      "Relative error at iteration 10: 0.0020993245931663616\n",
      "Relative error at iteration 20: 0.0003533896788895704\n",
      "Relative error at iteration 30: 0.00013001208666003376\n"
     ]
    },
    {
     "name": "stderr",
     "output_type": "stream",
     "text": [
      "  1%|          | 34/5000 [00:00<00:08, 602.67it/s]\n"
     ]
    },
    {
     "name": "stdout",
     "output_type": "stream",
     "text": [
      "Convergence achieved at iteration 34...\n",
      "Accuracy on iteration 12: 0.3789173789173789\n"
     ]
    },
    {
     "name": "stderr",
     "output_type": "stream",
     "text": [
      "  0%|          | 0/5000 [00:00<?, ?it/s]"
     ]
    },
    {
     "name": "stdout",
     "output_type": "stream",
     "text": [
      "Relative error at iteration 10: 0.002126421967671443\n"
     ]
    },
    {
     "name": "stderr",
     "output_type": "stream",
     "text": [
      "  1%|          | 34/5000 [00:00<00:08, 593.49it/s]\n"
     ]
    },
    {
     "name": "stdout",
     "output_type": "stream",
     "text": [
      "Relative error at iteration 20: 0.0003553023703580548\n",
      "Relative error at iteration 30: 0.00013011131771585487\n",
      "Convergence achieved at iteration 34...\n",
      "Accuracy on iteration 13: 0.3789173789173789\n"
     ]
    },
    {
     "name": "stderr",
     "output_type": "stream",
     "text": [
      "  0%|          | 0/5000 [00:00<?, ?it/s]"
     ]
    },
    {
     "name": "stdout",
     "output_type": "stream",
     "text": [
      "Relative error at iteration 10: 0.002126421967671443\n",
      "Relative error at iteration 20: 0.0003553023703580548\n"
     ]
    },
    {
     "name": "stderr",
     "output_type": "stream",
     "text": [
      "  1%|          | 34/5000 [00:00<00:12, 390.29it/s]\n"
     ]
    },
    {
     "name": "stdout",
     "output_type": "stream",
     "text": [
      "Relative error at iteration 30: 0.00013011131771585487\n",
      "Convergence achieved at iteration 34...\n",
      "Accuracy on iteration 14: 0.6210826210826211\n"
     ]
    },
    {
     "name": "stderr",
     "output_type": "stream",
     "text": [
      "  0%|          | 0/5000 [00:00<?, ?it/s]"
     ]
    },
    {
     "name": "stdout",
     "output_type": "stream",
     "text": [
      "Relative error at iteration 10: 0.0020993245931661465\n",
      "Relative error at iteration 20: 0.0003533896788895704\n"
     ]
    },
    {
     "name": "stderr",
     "output_type": "stream",
     "text": [
      "  1%|          | 34/5000 [00:00<00:08, 596.06it/s]\n"
     ]
    },
    {
     "name": "stdout",
     "output_type": "stream",
     "text": [
      "Relative error at iteration 30: 0.0001300120866598159\n",
      "Convergence achieved at iteration 34...\n",
      "Accuracy on iteration 15: 0.6210826210826211\n"
     ]
    },
    {
     "name": "stderr",
     "output_type": "stream",
     "text": [
      "  0%|          | 0/5000 [00:00<?, ?it/s]"
     ]
    },
    {
     "name": "stdout",
     "output_type": "stream",
     "text": [
      "Relative error at iteration 10: 0.0020993245931663616\n"
     ]
    },
    {
     "name": "stderr",
     "output_type": "stream",
     "text": [
      "  1%|          | 34/5000 [00:00<00:07, 631.83it/s]\n"
     ]
    },
    {
     "name": "stdout",
     "output_type": "stream",
     "text": [
      "Relative error at iteration 20: 0.0003533896788895704\n",
      "Relative error at iteration 30: 0.00013001208666003376\n",
      "Convergence achieved at iteration 34...\n",
      "Accuracy on iteration 16: 0.3789173789173789\n"
     ]
    },
    {
     "name": "stderr",
     "output_type": "stream",
     "text": [
      "  1%|          | 34/5000 [00:00<00:07, 632.71it/s]"
     ]
    },
    {
     "name": "stdout",
     "output_type": "stream",
     "text": [
      "Relative error at iteration 10: 0.0020993245931661465\n",
      "Relative error at iteration 20: 0.0003533896788895704\n",
      "Relative error at iteration 30: 0.0001300120866598159\n",
      "Convergence achieved at iteration 34...\n",
      "Accuracy on iteration 17: 0.6210826210826211\n"
     ]
    },
    {
     "name": "stderr",
     "output_type": "stream",
     "text": [
      "\n",
      "  0%|          | 0/5000 [00:00<?, ?it/s]"
     ]
    },
    {
     "name": "stdout",
     "output_type": "stream",
     "text": [
      "Relative error at iteration 10: 0.0020993245931661465\n",
      "Relative error at iteration 20: 0.0003533896788895704\n"
     ]
    },
    {
     "name": "stderr",
     "output_type": "stream",
     "text": [
      "  1%|          | 34/5000 [00:00<00:07, 629.86it/s]\n"
     ]
    },
    {
     "name": "stdout",
     "output_type": "stream",
     "text": [
      "Relative error at iteration 30: 0.0001300120866598159\n",
      "Convergence achieved at iteration 34...\n",
      "Accuracy on iteration 18: 0.6210826210826211\n"
     ]
    },
    {
     "name": "stderr",
     "output_type": "stream",
     "text": [
      "  0%|          | 0/5000 [00:00<?, ?it/s]"
     ]
    },
    {
     "name": "stdout",
     "output_type": "stream",
     "text": [
      "Relative error at iteration 10: 0.0020993245931661465\n",
      "Relative error at iteration 20: 0.0003533896788895704\n"
     ]
    },
    {
     "name": "stderr",
     "output_type": "stream",
     "text": [
      "  1%|          | 34/5000 [00:00<00:08, 584.27it/s]"
     ]
    },
    {
     "name": "stdout",
     "output_type": "stream",
     "text": [
      "Relative error at iteration 30: 0.0001300120866598159\n",
      "Convergence achieved at iteration 34...\n",
      "Accuracy on iteration 19: 0.6210826210826211\n"
     ]
    },
    {
     "name": "stderr",
     "output_type": "stream",
     "text": [
      "\n",
      "  0%|          | 0/5000 [00:00<?, ?it/s]"
     ]
    },
    {
     "name": "stdout",
     "output_type": "stream",
     "text": [
      "Relative error at iteration 10: 0.002126421967671443\n",
      "Relative error at iteration 20: 0.0003553023703580548\n"
     ]
    },
    {
     "name": "stderr",
     "output_type": "stream",
     "text": [
      "  1%|          | 34/5000 [00:00<00:08, 587.89it/s]\n"
     ]
    },
    {
     "name": "stdout",
     "output_type": "stream",
     "text": [
      "Relative error at iteration 30: 0.00013011131771585487\n",
      "Convergence achieved at iteration 34...\n",
      "Accuracy on iteration 20: 0.3789173789173789\n"
     ]
    },
    {
     "name": "stderr",
     "output_type": "stream",
     "text": [
      "  0%|          | 0/5000 [00:00<?, ?it/s]"
     ]
    },
    {
     "name": "stdout",
     "output_type": "stream",
     "text": [
      "Relative error at iteration 10: 0.0020993245931661465\n",
      "Relative error at iteration 20: 0.0003533896788895704\n"
     ]
    },
    {
     "name": "stderr",
     "output_type": "stream",
     "text": [
      "  1%|          | 34/5000 [00:00<00:08, 602.53it/s]\n"
     ]
    },
    {
     "name": "stdout",
     "output_type": "stream",
     "text": [
      "Relative error at iteration 30: 0.0001300120866598159\n",
      "Convergence achieved at iteration 34...\n",
      "Accuracy on iteration 21: 0.6210826210826211\n"
     ]
    },
    {
     "name": "stderr",
     "output_type": "stream",
     "text": [
      "  0%|          | 0/5000 [00:00<?, ?it/s]"
     ]
    },
    {
     "name": "stdout",
     "output_type": "stream",
     "text": [
      "Relative error at iteration 10: 0.0020993245931663616\n",
      "Relative error at iteration 20: 0.0003533896788895704\n"
     ]
    },
    {
     "name": "stderr",
     "output_type": "stream",
     "text": [
      "  1%|          | 34/5000 [00:00<00:07, 637.44it/s]"
     ]
    },
    {
     "name": "stdout",
     "output_type": "stream",
     "text": [
      "Relative error at iteration 30: 0.00013001208666003376\n",
      "Convergence achieved at iteration 34...\n"
     ]
    },
    {
     "name": "stderr",
     "output_type": "stream",
     "text": [
      "\n"
     ]
    },
    {
     "name": "stdout",
     "output_type": "stream",
     "text": [
      "Accuracy on iteration 22: 0.3789173789173789\n"
     ]
    },
    {
     "name": "stderr",
     "output_type": "stream",
     "text": [
      "  0%|          | 0/5000 [00:00<?, ?it/s]"
     ]
    },
    {
     "name": "stdout",
     "output_type": "stream",
     "text": [
      "Relative error at iteration 10: 0.0020993245931661465\n",
      "Relative error at iteration 20: 0.0003533896788895704\n"
     ]
    },
    {
     "name": "stderr",
     "output_type": "stream",
     "text": [
      "  1%|          | 34/5000 [00:00<00:08, 599.37it/s]\n"
     ]
    },
    {
     "name": "stdout",
     "output_type": "stream",
     "text": [
      "Relative error at iteration 30: 0.0001300120866598159\n",
      "Convergence achieved at iteration 34...\n",
      "Accuracy on iteration 23: 0.6210826210826211\n"
     ]
    },
    {
     "name": "stderr",
     "output_type": "stream",
     "text": [
      "  0%|          | 0/5000 [00:00<?, ?it/s]"
     ]
    },
    {
     "name": "stdout",
     "output_type": "stream",
     "text": [
      "Relative error at iteration 10: 0.0020993245931663616\n",
      "Relative error at iteration 20: 0.0003533896788895704\n"
     ]
    },
    {
     "name": "stderr",
     "output_type": "stream",
     "text": [
      "  1%|          | 34/5000 [00:00<00:09, 520.06it/s]\n"
     ]
    },
    {
     "name": "stdout",
     "output_type": "stream",
     "text": [
      "Relative error at iteration 30: 0.00013001208666003376\n",
      "Convergence achieved at iteration 34...\n",
      "Accuracy on iteration 24: 0.3789173789173789\n"
     ]
    },
    {
     "name": "stderr",
     "output_type": "stream",
     "text": [
      "  0%|          | 0/5000 [00:00<?, ?it/s]"
     ]
    },
    {
     "name": "stdout",
     "output_type": "stream",
     "text": [
      "Relative error at iteration 10: 0.0020993245931661465\n"
     ]
    },
    {
     "name": "stderr",
     "output_type": "stream",
     "text": [
      "  1%|          | 34/5000 [00:00<00:08, 580.92it/s]\n"
     ]
    },
    {
     "name": "stdout",
     "output_type": "stream",
     "text": [
      "Relative error at iteration 20: 0.0003533896788895704\n",
      "Relative error at iteration 30: 0.0001300120866598159\n",
      "Convergence achieved at iteration 34...\n",
      "Accuracy on iteration 25: 0.6210826210826211\n"
     ]
    },
    {
     "name": "stderr",
     "output_type": "stream",
     "text": [
      "  0%|          | 0/5000 [00:00<?, ?it/s]"
     ]
    },
    {
     "name": "stdout",
     "output_type": "stream",
     "text": [
      "Relative error at iteration 10: 0.0020993245931663616\n"
     ]
    },
    {
     "name": "stderr",
     "output_type": "stream",
     "text": [
      "  1%|          | 34/5000 [00:00<00:08, 588.70it/s]"
     ]
    },
    {
     "name": "stdout",
     "output_type": "stream",
     "text": [
      "Relative error at iteration 20: 0.0003533896788895704\n",
      "Relative error at iteration 30: 0.00013001208666003376\n",
      "Convergence achieved at iteration 34...\n"
     ]
    },
    {
     "name": "stderr",
     "output_type": "stream",
     "text": [
      "\n"
     ]
    },
    {
     "name": "stdout",
     "output_type": "stream",
     "text": [
      "Accuracy on iteration 26: 0.3789173789173789\n"
     ]
    },
    {
     "name": "stderr",
     "output_type": "stream",
     "text": [
      "  0%|          | 0/5000 [00:00<?, ?it/s]"
     ]
    },
    {
     "name": "stdout",
     "output_type": "stream",
     "text": [
      "Relative error at iteration 10: 0.0020993245931661465\n"
     ]
    },
    {
     "name": "stderr",
     "output_type": "stream",
     "text": [
      "  1%|          | 34/5000 [00:00<00:07, 654.36it/s]\n"
     ]
    },
    {
     "name": "stdout",
     "output_type": "stream",
     "text": [
      "Relative error at iteration 20: 0.0003533896788895704\n",
      "Relative error at iteration 30: 0.0001300120866598159\n",
      "Convergence achieved at iteration 34...\n",
      "Accuracy on iteration 27: 0.6210826210826211\n"
     ]
    },
    {
     "name": "stderr",
     "output_type": "stream",
     "text": [
      "  0%|          | 0/5000 [00:00<?, ?it/s]"
     ]
    },
    {
     "name": "stdout",
     "output_type": "stream",
     "text": [
      "Relative error at iteration 10: 0.0020993245931663616\n",
      "Relative error at iteration 20: 0.0003533896788895704\n"
     ]
    },
    {
     "name": "stderr",
     "output_type": "stream",
     "text": [
      "  1%|          | 34/5000 [00:00<00:08, 616.14it/s]"
     ]
    },
    {
     "name": "stdout",
     "output_type": "stream",
     "text": [
      "Relative error at iteration 30: 0.00013001208666003376\n",
      "Convergence achieved at iteration 34...\n",
      "Accuracy on iteration 28: 0.3789173789173789\n"
     ]
    },
    {
     "name": "stderr",
     "output_type": "stream",
     "text": [
      "\n",
      "  0%|          | 0/5000 [00:00<?, ?it/s]"
     ]
    },
    {
     "name": "stdout",
     "output_type": "stream",
     "text": [
      "Relative error at iteration 10: 0.002126421967671443\n",
      "Relative error at iteration 20: 0.0003553023703580548\n",
      "Relative error at iteration 30: 0.00013011131771585487\n"
     ]
    },
    {
     "name": "stderr",
     "output_type": "stream",
     "text": [
      "  1%|          | 34/5000 [00:00<00:12, 391.80it/s]\n"
     ]
    },
    {
     "name": "stdout",
     "output_type": "stream",
     "text": [
      "Convergence achieved at iteration 34...\n",
      "Accuracy on iteration 29: 0.6210826210826211\n"
     ]
    },
    {
     "name": "stderr",
     "output_type": "stream",
     "text": [
      "  0%|          | 0/5000 [00:00<?, ?it/s]"
     ]
    },
    {
     "name": "stdout",
     "output_type": "stream",
     "text": [
      "Relative error at iteration 10: 0.0020993245931663616\n"
     ]
    },
    {
     "name": "stderr",
     "output_type": "stream",
     "text": [
      "  1%|          | 34/5000 [00:00<00:08, 583.93it/s]\n"
     ]
    },
    {
     "name": "stdout",
     "output_type": "stream",
     "text": [
      "Relative error at iteration 20: 0.0003533896788895704\n",
      "Relative error at iteration 30: 0.00013001208666003376\n",
      "Convergence achieved at iteration 34...\n",
      "Accuracy on iteration 30: 0.3789173789173789\n"
     ]
    },
    {
     "name": "stderr",
     "output_type": "stream",
     "text": [
      "  0%|          | 0/5000 [00:00<?, ?it/s]"
     ]
    },
    {
     "name": "stdout",
     "output_type": "stream",
     "text": [
      "Relative error at iteration 10: 0.002126421967671443\n",
      "Relative error at iteration 20: 0.0003553023703580548\n"
     ]
    },
    {
     "name": "stderr",
     "output_type": "stream",
     "text": [
      "  1%|          | 34/5000 [00:00<00:08, 564.71it/s]\n"
     ]
    },
    {
     "name": "stdout",
     "output_type": "stream",
     "text": [
      "Relative error at iteration 30: 0.00013011131771585487\n",
      "Convergence achieved at iteration 34...\n",
      "Accuracy on iteration 31: 0.6210826210826211\n"
     ]
    },
    {
     "name": "stderr",
     "output_type": "stream",
     "text": [
      "  0%|          | 0/5000 [00:00<?, ?it/s]"
     ]
    },
    {
     "name": "stdout",
     "output_type": "stream",
     "text": [
      "Relative error at iteration 10: 0.0020993245931661465\n",
      "Relative error at iteration 20: 0.0003533896788895704\n"
     ]
    },
    {
     "name": "stderr",
     "output_type": "stream",
     "text": [
      "  1%|          | 34/5000 [00:00<00:08, 597.24it/s]\n"
     ]
    },
    {
     "name": "stdout",
     "output_type": "stream",
     "text": [
      "Relative error at iteration 30: 0.0001300120866598159\n",
      "Convergence achieved at iteration 34...\n",
      "Accuracy on iteration 32: 0.6210826210826211\n"
     ]
    },
    {
     "name": "stderr",
     "output_type": "stream",
     "text": [
      "  0%|          | 0/5000 [00:00<?, ?it/s]"
     ]
    },
    {
     "name": "stdout",
     "output_type": "stream",
     "text": [
      "Relative error at iteration 10: 0.0020993245931663616\n",
      "Relative error at iteration 20: 0.0003533896788895704\n"
     ]
    },
    {
     "name": "stderr",
     "output_type": "stream",
     "text": [
      "  1%|          | 34/5000 [00:00<00:08, 587.73it/s]\n"
     ]
    },
    {
     "name": "stdout",
     "output_type": "stream",
     "text": [
      "Relative error at iteration 30: 0.00013001208666003376\n",
      "Convergence achieved at iteration 34...\n",
      "Accuracy on iteration 33: 0.3789173789173789\n"
     ]
    },
    {
     "name": "stderr",
     "output_type": "stream",
     "text": [
      "  0%|          | 0/5000 [00:00<?, ?it/s]"
     ]
    },
    {
     "name": "stdout",
     "output_type": "stream",
     "text": [
      "Relative error at iteration 10: 0.0020993245931663616\n"
     ]
    },
    {
     "name": "stderr",
     "output_type": "stream",
     "text": [
      "  1%|          | 34/5000 [00:00<00:08, 559.04it/s]"
     ]
    },
    {
     "name": "stdout",
     "output_type": "stream",
     "text": [
      "Relative error at iteration 20: 0.0003533896788895704\n",
      "Relative error at iteration 30: 0.00013001208666003376\n",
      "Convergence achieved at iteration 34...\n",
      "Accuracy on iteration 34: 0.3789173789173789\n"
     ]
    },
    {
     "name": "stderr",
     "output_type": "stream",
     "text": [
      "\n",
      "  0%|          | 0/5000 [00:00<?, ?it/s]"
     ]
    },
    {
     "name": "stdout",
     "output_type": "stream",
     "text": [
      "Relative error at iteration 10: 0.0020993245931661465\n",
      "Relative error at iteration 20: 0.0003533896788895704\n",
      "Relative error at iteration 30: 0.0001300120866598159\n"
     ]
    },
    {
     "name": "stderr",
     "output_type": "stream",
     "text": [
      "  1%|          | 34/5000 [00:00<00:09, 515.00it/s]\n"
     ]
    },
    {
     "name": "stdout",
     "output_type": "stream",
     "text": [
      "Convergence achieved at iteration 34...\n",
      "Accuracy on iteration 35: 0.6210826210826211\n"
     ]
    },
    {
     "name": "stderr",
     "output_type": "stream",
     "text": [
      "  0%|          | 0/5000 [00:00<?, ?it/s]"
     ]
    },
    {
     "name": "stdout",
     "output_type": "stream",
     "text": [
      "Relative error at iteration 10: 0.002126421967671443\n",
      "Relative error at iteration 20: 0.0003553023703580548\n",
      "Relative error at iteration 30: 0.00013011131771585487\n"
     ]
    },
    {
     "name": "stderr",
     "output_type": "stream",
     "text": [
      "  1%|          | 34/5000 [00:00<00:12, 383.17it/s]\n"
     ]
    },
    {
     "name": "stdout",
     "output_type": "stream",
     "text": [
      "Convergence achieved at iteration 34...\n",
      "Accuracy on iteration 36: 0.3789173789173789\n"
     ]
    },
    {
     "name": "stderr",
     "output_type": "stream",
     "text": [
      "  1%|          | 34/5000 [00:00<00:08, 617.90it/s]\n"
     ]
    },
    {
     "name": "stdout",
     "output_type": "stream",
     "text": [
      "Relative error at iteration 10: 0.0020993245931663616\n",
      "Relative error at iteration 20: 0.0003533896788895704\n",
      "Relative error at iteration 30: 0.00013001208666003376\n",
      "Convergence achieved at iteration 34...\n",
      "Accuracy on iteration 37: 0.3789173789173789\n"
     ]
    },
    {
     "name": "stderr",
     "output_type": "stream",
     "text": [
      "  0%|          | 0/5000 [00:00<?, ?it/s]"
     ]
    },
    {
     "name": "stdout",
     "output_type": "stream",
     "text": [
      "Relative error at iteration 10: 0.0020993245931663616\n",
      "Relative error at iteration 20: 0.0003533896788895704\n"
     ]
    },
    {
     "name": "stderr",
     "output_type": "stream",
     "text": [
      "  1%|          | 34/5000 [00:00<00:08, 559.88it/s]\n"
     ]
    },
    {
     "name": "stdout",
     "output_type": "stream",
     "text": [
      "Relative error at iteration 30: 0.00013001208666003376\n",
      "Convergence achieved at iteration 34...\n",
      "Accuracy on iteration 38: 0.3789173789173789\n"
     ]
    },
    {
     "name": "stderr",
     "output_type": "stream",
     "text": [
      "  0%|          | 0/5000 [00:00<?, ?it/s]"
     ]
    },
    {
     "name": "stdout",
     "output_type": "stream",
     "text": [
      "Relative error at iteration 10: 0.0020993245931663616\n",
      "Relative error at iteration 20: 0.0003533896788895704\n"
     ]
    },
    {
     "name": "stderr",
     "output_type": "stream",
     "text": [
      "  1%|          | 34/5000 [00:00<00:08, 570.01it/s]\n"
     ]
    },
    {
     "name": "stdout",
     "output_type": "stream",
     "text": [
      "Relative error at iteration 30: 0.00013001208666003376\n",
      "Convergence achieved at iteration 34...\n",
      "Accuracy on iteration 39: 0.3789173789173789\n"
     ]
    },
    {
     "name": "stderr",
     "output_type": "stream",
     "text": [
      "  0%|          | 0/5000 [00:00<?, ?it/s]"
     ]
    },
    {
     "name": "stdout",
     "output_type": "stream",
     "text": [
      "Relative error at iteration 10: 0.0020993245931661465\n"
     ]
    },
    {
     "name": "stderr",
     "output_type": "stream",
     "text": [
      "  1%|          | 34/5000 [00:00<00:08, 597.78it/s]\n"
     ]
    },
    {
     "name": "stdout",
     "output_type": "stream",
     "text": [
      "Relative error at iteration 20: 0.0003533896788895704\n",
      "Relative error at iteration 30: 0.0001300120866598159\n",
      "Convergence achieved at iteration 34...\n",
      "Accuracy on iteration 40: 0.6210826210826211\n"
     ]
    },
    {
     "name": "stderr",
     "output_type": "stream",
     "text": [
      "  0%|          | 0/5000 [00:00<?, ?it/s]"
     ]
    },
    {
     "name": "stdout",
     "output_type": "stream",
     "text": [
      "Relative error at iteration 10: 0.002126421967671443\n",
      "Relative error at iteration 20: 0.0003553023703580548\n"
     ]
    },
    {
     "name": "stderr",
     "output_type": "stream",
     "text": [
      "  1%|          | 34/5000 [00:00<00:08, 589.10it/s]\n"
     ]
    },
    {
     "name": "stdout",
     "output_type": "stream",
     "text": [
      "Relative error at iteration 30: 0.00013011131771585487\n",
      "Convergence achieved at iteration 34...\n",
      "Accuracy on iteration 41: 0.3789173789173789\n"
     ]
    },
    {
     "name": "stderr",
     "output_type": "stream",
     "text": [
      "  0%|          | 0/5000 [00:00<?, ?it/s]"
     ]
    },
    {
     "name": "stdout",
     "output_type": "stream",
     "text": [
      "Relative error at iteration 10: 0.0020993245931661465\n",
      "Relative error at iteration 20: 0.0003533896788895704\n"
     ]
    },
    {
     "name": "stderr",
     "output_type": "stream",
     "text": [
      "  1%|          | 34/5000 [00:00<00:08, 592.84it/s]\n"
     ]
    },
    {
     "name": "stdout",
     "output_type": "stream",
     "text": [
      "Relative error at iteration 30: 0.0001300120866598159\n",
      "Convergence achieved at iteration 34...\n",
      "Accuracy on iteration 42: 0.6210826210826211\n"
     ]
    },
    {
     "name": "stderr",
     "output_type": "stream",
     "text": [
      "  0%|          | 0/5000 [00:00<?, ?it/s]"
     ]
    },
    {
     "name": "stdout",
     "output_type": "stream",
     "text": [
      "Relative error at iteration 10: 0.0008213653297618371\n",
      "Relative error at iteration 20: 0.0005485310407248677\n",
      "Relative error at iteration 30: 0.0020229322683386125\n",
      "Relative error at iteration 40: 0.005683924640747635\n"
     ]
    },
    {
     "name": "stderr",
     "output_type": "stream",
     "text": [
      "  1%|          | 46/5000 [00:00<00:10, 459.34it/s]"
     ]
    },
    {
     "name": "stdout",
     "output_type": "stream",
     "text": [
      "Relative error at iteration 50: 0.004802611264660186\n",
      "Relative error at iteration 60: 0.001278071554903299\n",
      "Relative error at iteration 70: 0.0009641109213513107\n",
      "Relative error at iteration 80: 0.0008678116556392196\n",
      "Relative error at iteration 90: 0.00037773880224348163\n",
      "Relative error at iteration 100: 0.0001767897353693308\n"
     ]
    },
    {
     "name": "stderr",
     "output_type": "stream",
     "text": [
      "  3%|▎         | 135/5000 [00:00<00:08, 550.14it/s]\n"
     ]
    },
    {
     "name": "stdout",
     "output_type": "stream",
     "text": [
      "Relative error at iteration 110: 0.00014720875409946762\n",
      "Relative error at iteration 120: 0.0002099802845171666\n",
      "Relative error at iteration 130: 0.00015198413104438015\n",
      "Convergence achieved at iteration 135...\n",
      "Accuracy on iteration 43: 0.4045584045584046\n"
     ]
    },
    {
     "name": "stderr",
     "output_type": "stream",
     "text": [
      "  1%|          | 34/5000 [00:00<00:07, 648.48it/s]\n"
     ]
    },
    {
     "name": "stdout",
     "output_type": "stream",
     "text": [
      "Relative error at iteration 10: 0.002126421967671443\n",
      "Relative error at iteration 20: 0.0003553023703580548\n",
      "Relative error at iteration 30: 0.00013011131771585487\n",
      "Convergence achieved at iteration 34...\n",
      "Accuracy on iteration 44: 0.3789173789173789\n"
     ]
    },
    {
     "name": "stderr",
     "output_type": "stream",
     "text": [
      "  0%|          | 0/5000 [00:00<?, ?it/s]"
     ]
    },
    {
     "name": "stdout",
     "output_type": "stream",
     "text": [
      "Relative error at iteration 10: 0.0020993245931663616\n",
      "Relative error at iteration 20: 0.0003533896788895704\n"
     ]
    },
    {
     "name": "stderr",
     "output_type": "stream",
     "text": [
      "  1%|          | 34/5000 [00:00<00:08, 585.11it/s]\n"
     ]
    },
    {
     "name": "stdout",
     "output_type": "stream",
     "text": [
      "Relative error at iteration 30: 0.00013001208666003376\n",
      "Convergence achieved at iteration 34...\n",
      "Accuracy on iteration 45: 0.3789173789173789\n"
     ]
    },
    {
     "name": "stderr",
     "output_type": "stream",
     "text": [
      "  0%|          | 0/5000 [00:00<?, ?it/s]"
     ]
    },
    {
     "name": "stdout",
     "output_type": "stream",
     "text": [
      "Relative error at iteration 10: 0.0020993245931663616\n",
      "Relative error at iteration 20: 0.0003533896788895704\n"
     ]
    },
    {
     "name": "stderr",
     "output_type": "stream",
     "text": [
      "  1%|          | 34/5000 [00:00<00:08, 595.78it/s]\n"
     ]
    },
    {
     "name": "stdout",
     "output_type": "stream",
     "text": [
      "Relative error at iteration 30: 0.00013001208666003376\n",
      "Convergence achieved at iteration 34...\n",
      "Accuracy on iteration 46: 0.3789173789173789\n"
     ]
    },
    {
     "name": "stderr",
     "output_type": "stream",
     "text": [
      "  0%|          | 0/5000 [00:00<?, ?it/s]"
     ]
    },
    {
     "name": "stdout",
     "output_type": "stream",
     "text": [
      "Relative error at iteration 10: 0.0020993245931661465\n",
      "Relative error at iteration 20: 0.0003533896788895704\n"
     ]
    },
    {
     "name": "stderr",
     "output_type": "stream",
     "text": [
      "  1%|          | 34/5000 [00:00<00:08, 587.87it/s]\n"
     ]
    },
    {
     "name": "stdout",
     "output_type": "stream",
     "text": [
      "Relative error at iteration 30: 0.0001300120866598159\n",
      "Convergence achieved at iteration 34...\n",
      "Accuracy on iteration 47: 0.6210826210826211\n"
     ]
    },
    {
     "name": "stderr",
     "output_type": "stream",
     "text": [
      "  0%|          | 0/5000 [00:00<?, ?it/s]"
     ]
    },
    {
     "name": "stdout",
     "output_type": "stream",
     "text": [
      "Relative error at iteration 10: 0.0020993245931663616\n",
      "Relative error at iteration 20: 0.0003533896788895704\n"
     ]
    },
    {
     "name": "stderr",
     "output_type": "stream",
     "text": [
      "  1%|          | 34/5000 [00:00<00:08, 611.62it/s]\n"
     ]
    },
    {
     "name": "stdout",
     "output_type": "stream",
     "text": [
      "Relative error at iteration 30: 0.00013001208666003376\n",
      "Convergence achieved at iteration 34...\n",
      "Accuracy on iteration 48: 0.3789173789173789\n"
     ]
    },
    {
     "name": "stderr",
     "output_type": "stream",
     "text": [
      "  0%|          | 0/5000 [00:00<?, ?it/s]"
     ]
    },
    {
     "name": "stdout",
     "output_type": "stream",
     "text": [
      "Relative error at iteration 10: 0.0020993245931663616\n",
      "Relative error at iteration 20: 0.0003533896788895704\n",
      "Relative error at iteration 30: 0.00013001208666003376\n"
     ]
    },
    {
     "name": "stderr",
     "output_type": "stream",
     "text": [
      "  1%|          | 34/5000 [00:00<00:11, 439.21it/s]"
     ]
    },
    {
     "name": "stdout",
     "output_type": "stream",
     "text": [
      "Convergence achieved at iteration 34...\n",
      "Accuracy on iteration 49: 0.3789173789173789\n",
      "Average accuracy: 0.48113960113960114\n"
     ]
    },
    {
     "name": "stderr",
     "output_type": "stream",
     "text": [
      "\n"
     ]
    }
   ],
   "source": [
    "convex_nmf_clustering_accuracies = []\n",
    "for i in range(0, 50):\n",
    "    F, W, G_T, residual_vector = convex_nmf(X = np.array(X.T), r=2, tol=1e-4, max_iter=5000, random_state=random_state * i)\n",
    "    convex_nmf_clusters = [0 if G_T[0, i] > G_T[1, i] else 1 for i in range(351)]\n",
    "    #plot_confusion_matrix(y_true = y, y_pred = convex_nmf_clusters, normalize = True)\n",
    "    accuracy = accuracy_score(y_true=y, y_pred=convex_nmf_clusters)\n",
    "    print(f'Accuracy on iteration {i}: {accuracy}')\n",
    "    convex_nmf_clustering_accuracies.append(accuracy)\n",
    "\n",
    "print(f'Average accuracy: {np.mean(convex_nmf_clustering_accuracies)}')"
   ]
  },
  {
   "cell_type": "code",
   "execution_count": null,
   "id": "aede6f14",
   "metadata": {},
   "outputs": [
    {
     "data": {
      "image/png": "[encoded data removed]",
      "text/plain": [
       "<Figure size 640x480 with 1 Axes>"
      ]
     },
     "metadata": {},
     "output_type": "display_data"
    }
   ],
   "source": [
    "plt.plot(residual_vector)\n",
    "plt.xlabel('Number of Iterations')\n",
    "plt.ylabel('Residual || X - XWG^T ||_{F}^2')\n",
    "plt.show()"
   ]
  }
 ],
 "metadata": {
  "kernelspec": {
   "display_name": ".venv",
   "language": "python",
   "name": "python3"
  },
  "language_info": {
   "codemirror_mode": {
    "name": "ipython",
    "version": 3
   },
   "file_extension": ".py",
   "mimetype": "text/x-python",
   "name": "python",
   "nbconvert_exporter": "python",
   "pygments_lexer": "ipython3",
   "version": "3.10.5"
  }
 },
 "nbformat": 4,
 "nbformat_minor": 5
}
