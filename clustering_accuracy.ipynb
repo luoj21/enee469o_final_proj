{
 "cells": [
  {
   "cell_type": "code",
   "execution_count": 1,
   "id": "29b21af0",
   "metadata": {},
   "outputs": [],
   "source": [
    "import numpy as np\n",
    "import matplotlib.pyplot as plt\n",
    "import seaborn as sns\n",
    "\n",
    "from utils import plot_confusion_matrix, compute_sparsity\n",
    "from sklearn.cluster import KMeans\n",
    "from ucimlrepo import fetch_ucirepo\n",
    "from convex_nmf import convex_nmf\n",
    "from sklearn.metrics import accuracy_score"
   ]
  },
  {
   "cell_type": "code",
   "execution_count": 2,
   "id": "e6ced023",
   "metadata": {},
   "outputs": [],
   "source": [
    "# fetch dataset \n",
    "ionosphere = fetch_ucirepo(id=52) \n",
    "  \n",
    "# data (as pandas dataframes) \n",
    "X = ionosphere.data.features # num_samples x num_features\n",
    "y = ionosphere.data.targets\n",
    "y = [1 if label == 'g' else 0 for label in y['Class']]"
   ]
  },
  {
   "cell_type": "code",
   "execution_count": 3,
   "id": "f923ec7b",
   "metadata": {},
   "outputs": [
    {
     "name": "stdout",
     "output_type": "stream",
     "text": [
      "Total iterations for kmeans: 4. Accuracy on iteration 0: 0.7122507122507122\n",
      "Total iterations for kmeans: 5. Accuracy on iteration 1: 0.2905982905982906\n",
      "Total iterations for kmeans: 5. Accuracy on iteration 2: 0.28774928774928776\n",
      "Total iterations for kmeans: 6. Accuracy on iteration 3: 0.28774928774928776\n",
      "Total iterations for kmeans: 6. Accuracy on iteration 4: 0.7122507122507122\n",
      "Total iterations for kmeans: 7. Accuracy on iteration 5: 0.2905982905982906\n",
      "Total iterations for kmeans: 9. Accuracy on iteration 6: 0.28774928774928776\n",
      "Total iterations for kmeans: 14. Accuracy on iteration 7: 0.28774928774928776\n",
      "Total iterations for kmeans: 5. Accuracy on iteration 8: 0.7122507122507122\n",
      "Total iterations for kmeans: 13. Accuracy on iteration 9: 0.7122507122507122\n",
      "Total iterations for kmeans: 5. Accuracy on iteration 10: 0.2905982905982906\n",
      "Total iterations for kmeans: 5. Accuracy on iteration 11: 0.7094017094017094\n",
      "Total iterations for kmeans: 5. Accuracy on iteration 12: 0.28774928774928776\n",
      "Total iterations for kmeans: 4. Accuracy on iteration 13: 0.2905982905982906\n",
      "Total iterations for kmeans: 8. Accuracy on iteration 14: 0.7094017094017094\n",
      "Total iterations for kmeans: 5. Accuracy on iteration 15: 0.7122507122507122\n",
      "Total iterations for kmeans: 8. Accuracy on iteration 16: 0.28774928774928776\n",
      "Total iterations for kmeans: 7. Accuracy on iteration 17: 0.7122507122507122\n",
      "Total iterations for kmeans: 4. Accuracy on iteration 18: 0.7122507122507122\n",
      "Total iterations for kmeans: 6. Accuracy on iteration 19: 0.7122507122507122\n",
      "Total iterations for kmeans: 6. Accuracy on iteration 20: 0.2905982905982906\n",
      "Total iterations for kmeans: 9. Accuracy on iteration 21: 0.7122507122507122\n",
      "Total iterations for kmeans: 5. Accuracy on iteration 22: 0.28774928774928776\n",
      "Total iterations for kmeans: 8. Accuracy on iteration 23: 0.7122507122507122\n",
      "Total iterations for kmeans: 10. Accuracy on iteration 24: 0.28774928774928776\n",
      "Total iterations for kmeans: 7. Accuracy on iteration 25: 0.7122507122507122\n",
      "Total iterations for kmeans: 8. Accuracy on iteration 26: 0.28774928774928776\n",
      "Total iterations for kmeans: 10. Accuracy on iteration 27: 0.7122507122507122\n",
      "Total iterations for kmeans: 7. Accuracy on iteration 28: 0.28774928774928776\n",
      "Total iterations for kmeans: 4. Accuracy on iteration 29: 0.7094017094017094\n",
      "Total iterations for kmeans: 4. Accuracy on iteration 30: 0.28774928774928776\n",
      "Total iterations for kmeans: 5. Accuracy on iteration 31: 0.7094017094017094\n",
      "Total iterations for kmeans: 6. Accuracy on iteration 32: 0.7122507122507122\n",
      "Total iterations for kmeans: 9. Accuracy on iteration 33: 0.28774928774928776\n",
      "Total iterations for kmeans: 8. Accuracy on iteration 34: 0.28774928774928776\n",
      "Total iterations for kmeans: 6. Accuracy on iteration 35: 0.7122507122507122\n",
      "Total iterations for kmeans: 3. Accuracy on iteration 36: 0.2905982905982906\n",
      "Total iterations for kmeans: 8. Accuracy on iteration 37: 0.28774928774928776\n",
      "Total iterations for kmeans: 8. Accuracy on iteration 38: 0.28774928774928776\n",
      "Total iterations for kmeans: 5. Accuracy on iteration 39: 0.28774928774928776\n",
      "Total iterations for kmeans: 9. Accuracy on iteration 40: 0.7122507122507122\n",
      "Total iterations for kmeans: 6. Accuracy on iteration 41: 0.2905982905982906\n",
      "Total iterations for kmeans: 6. Accuracy on iteration 42: 0.7122507122507122\n",
      "Total iterations for kmeans: 2. Accuracy on iteration 43: 0.3561253561253561\n",
      "Total iterations for kmeans: 6. Accuracy on iteration 44: 0.2905982905982906\n",
      "Total iterations for kmeans: 10. Accuracy on iteration 45: 0.28774928774928776\n",
      "Total iterations for kmeans: 9. Accuracy on iteration 46: 0.28774928774928776\n",
      "Total iterations for kmeans: 8. Accuracy on iteration 47: 0.7122507122507122\n",
      "Total iterations for kmeans: 7. Accuracy on iteration 48: 0.28774928774928776\n",
      "Total iterations for kmeans: 5. Accuracy on iteration 49: 0.28774928774928776\n",
      "Average accuracy: 0.46763532763532767\n"
     ]
    }
   ],
   "source": [
    "kmeans_clustering_accuracies = []\n",
    "random_state = 22\n",
    "for i in range(50):\n",
    "    kmeans = KMeans(n_clusters=2, tol = 0.001, random_state = random_state * i)\n",
    "    kmeans_labels = kmeans.fit_predict(X)\n",
    "    #plot_confusion_matrix(y_true = y, y_pred = kmeans_labels, normalize = True)\n",
    "    accuracy = accuracy_score(y_true = y, y_pred = kmeans_labels)\n",
    "    print(f\"Total iterations for kmeans: {kmeans.n_iter_}. Accuracy on iteration {i}: {accuracy}\")\n",
    "    kmeans_clustering_accuracies.append(accuracy)\n",
    "\n",
    "print(f'Average accuracy: {np.mean(kmeans_clustering_accuracies)}')"
   ]
  },
  {
   "cell_type": "code",
   "execution_count": 4,
   "id": "8e20346a",
   "metadata": {},
   "outputs": [
    {
     "name": "stderr",
     "output_type": "stream",
     "text": [
      "  0%|          | 0/5000 [00:00<?, ?it/s]"
     ]
    },
    {
     "name": "stdout",
     "output_type": "stream",
     "text": [
      "Relative error at iteration 10: 0.0020993245931663616\n"
     ]
    },
    {
     "name": "stderr",
     "output_type": "stream",
     "text": [
      "  1%|          | 34/5000 [00:00<00:17, 276.64it/s]\n"
     ]
    },
    {
     "name": "stdout",
     "output_type": "stream",
     "text": [
      "Relative error at iteration 20: 0.0003533896788895704\n",
      "Relative error at iteration 30: 0.0001300120866598159\n",
      "Convergence achieved at iteration 34...\n",
      "Proportion of non-zero elements for G_T and W: 0.9173789173789174, 0.9658119658119658\n",
      "Accuracy on iteration 0: 0.6210826210826211\n"
     ]
    },
    {
     "name": "stderr",
     "output_type": "stream",
     "text": [
      "  1%|          | 34/5000 [00:00<00:13, 374.60it/s]\n"
     ]
    },
    {
     "name": "stdout",
     "output_type": "stream",
     "text": [
      "Relative error at iteration 10: 0.002126421967671443\n",
      "Relative error at iteration 20: 0.0003553023703580548\n",
      "Relative error at iteration 30: 0.00013011131771585487\n",
      "Convergence achieved at iteration 34...\n",
      "Proportion of non-zero elements for G_T and W: 0.9173789173789174, 0.9658119658119658\n",
      "Accuracy on iteration 1: 0.3789173789173789\n"
     ]
    },
    {
     "name": "stderr",
     "output_type": "stream",
     "text": [
      "  0%|          | 0/5000 [00:00<?, ?it/s]"
     ]
    },
    {
     "name": "stdout",
     "output_type": "stream",
     "text": [
      "Relative error at iteration 10: 0.0020993245931663616\n"
     ]
    },
    {
     "name": "stderr",
     "output_type": "stream",
     "text": [
      "  1%|          | 34/5000 [00:00<00:15, 328.76it/s]\n"
     ]
    },
    {
     "name": "stdout",
     "output_type": "stream",
     "text": [
      "Relative error at iteration 20: 0.0003533896788895704\n",
      "Relative error at iteration 30: 0.00013001208666003376\n",
      "Convergence achieved at iteration 34...\n",
      "Proportion of non-zero elements for G_T and W: 0.9173789173789174, 0.9658119658119658\n",
      "Accuracy on iteration 2: 0.3789173789173789\n"
     ]
    },
    {
     "name": "stderr",
     "output_type": "stream",
     "text": [
      "  0%|          | 19/5000 [00:00<00:26, 187.11it/s]"
     ]
    },
    {
     "name": "stdout",
     "output_type": "stream",
     "text": [
      "Relative error at iteration 10: 0.0020993245931663616\n",
      "Relative error at iteration 20: 0.0003533896788895704\n"
     ]
    },
    {
     "name": "stderr",
     "output_type": "stream",
     "text": [
      "  1%|          | 34/5000 [00:00<00:27, 180.83it/s]\n"
     ]
    },
    {
     "name": "stdout",
     "output_type": "stream",
     "text": [
      "Relative error at iteration 30: 0.00013001208666003376\n",
      "Convergence achieved at iteration 34...\n",
      "Proportion of non-zero elements for G_T and W: 0.9173789173789174, 0.9658119658119658\n",
      "Accuracy on iteration 3: 0.3789173789173789\n"
     ]
    },
    {
     "name": "stderr",
     "output_type": "stream",
     "text": [
      "  0%|          | 0/5000 [00:00<?, ?it/s]"
     ]
    },
    {
     "name": "stdout",
     "output_type": "stream",
     "text": [
      "Relative error at iteration 10: 0.0020993245931663616\n"
     ]
    },
    {
     "name": "stderr",
     "output_type": "stream",
     "text": [
      "  0%|          | 20/5000 [00:00<00:26, 191.05it/s]"
     ]
    },
    {
     "name": "stdout",
     "output_type": "stream",
     "text": [
      "Relative error at iteration 20: 0.0003533896788895704\n",
      "Relative error at iteration 30: 0.0001300120866598159\n"
     ]
    },
    {
     "name": "stderr",
     "output_type": "stream",
     "text": [
      "  1%|          | 34/5000 [00:00<00:27, 182.29it/s]\n"
     ]
    },
    {
     "name": "stdout",
     "output_type": "stream",
     "text": [
      "Convergence achieved at iteration 34...\n",
      "Proportion of non-zero elements for G_T and W: 0.9173789173789174, 0.9658119658119658\n",
      "Accuracy on iteration 4: 0.6210826210826211\n"
     ]
    },
    {
     "name": "stderr",
     "output_type": "stream",
     "text": [
      "  0%|          | 0/5000 [00:00<?, ?it/s]"
     ]
    },
    {
     "name": "stdout",
     "output_type": "stream",
     "text": [
      "Relative error at iteration 10: 0.002126421967671443\n"
     ]
    },
    {
     "name": "stderr",
     "output_type": "stream",
     "text": [
      "  0%|          | 19/5000 [00:00<00:26, 187.61it/s]"
     ]
    },
    {
     "name": "stdout",
     "output_type": "stream",
     "text": [
      "Relative error at iteration 20: 0.0003553023703580548\n"
     ]
    },
    {
     "name": "stderr",
     "output_type": "stream",
     "text": [
      "  1%|          | 34/5000 [00:00<00:27, 180.26it/s]"
     ]
    },
    {
     "name": "stdout",
     "output_type": "stream",
     "text": [
      "Relative error at iteration 30: 0.00013011131771585487\n",
      "Convergence achieved at iteration 34...\n",
      "Proportion of non-zero elements for G_T and W: 0.9173789173789174, 0.9658119658119658\n",
      "Accuracy on iteration 5: 0.3789173789173789\n"
     ]
    },
    {
     "name": "stderr",
     "output_type": "stream",
     "text": [
      "\n",
      "  0%|          | 19/5000 [00:00<00:27, 181.22it/s]"
     ]
    },
    {
     "name": "stdout",
     "output_type": "stream",
     "text": [
      "Relative error at iteration 10: 0.0020993245931663616\n",
      "Relative error at iteration 20: 0.0003533896788895704\n",
      "Relative error at iteration 30: 0.00013001208666003376\n"
     ]
    },
    {
     "name": "stderr",
     "output_type": "stream",
     "text": [
      "  1%|          | 34/5000 [00:00<00:27, 179.20it/s]\n"
     ]
    },
    {
     "name": "stdout",
     "output_type": "stream",
     "text": [
      "Convergence achieved at iteration 34...\n",
      "Proportion of non-zero elements for G_T and W: 0.9173789173789174, 0.9658119658119658\n",
      "Accuracy on iteration 6: 0.3789173789173789\n"
     ]
    },
    {
     "name": "stderr",
     "output_type": "stream",
     "text": [
      "  0%|          | 19/5000 [00:00<00:26, 186.90it/s]"
     ]
    },
    {
     "name": "stdout",
     "output_type": "stream",
     "text": [
      "Relative error at iteration 10: 0.0020993245931663616\n",
      "Relative error at iteration 20: 0.0003533896788895704\n",
      "Relative error at iteration 30: 0.00013001208666003376\n"
     ]
    },
    {
     "name": "stderr",
     "output_type": "stream",
     "text": [
      "  1%|          | 34/5000 [00:00<00:27, 179.25it/s]\n"
     ]
    },
    {
     "name": "stdout",
     "output_type": "stream",
     "text": [
      "Convergence achieved at iteration 34...\n",
      "Proportion of non-zero elements for G_T and W: 0.9173789173789174, 0.9658119658119658\n",
      "Accuracy on iteration 7: 0.3789173789173789\n"
     ]
    },
    {
     "name": "stderr",
     "output_type": "stream",
     "text": [
      "  0%|          | 0/5000 [00:00<?, ?it/s]"
     ]
    },
    {
     "name": "stdout",
     "output_type": "stream",
     "text": [
      "Relative error at iteration 10: 0.0020993245931663616\n"
     ]
    },
    {
     "name": "stderr",
     "output_type": "stream",
     "text": [
      "  0%|          | 21/5000 [00:00<00:24, 204.55it/s]"
     ]
    },
    {
     "name": "stdout",
     "output_type": "stream",
     "text": [
      "Relative error at iteration 20: 0.0003533896788895704\n",
      "Relative error at iteration 30: 0.0001300120866598159\n"
     ]
    },
    {
     "name": "stderr",
     "output_type": "stream",
     "text": [
      "  1%|          | 34/5000 [00:00<00:26, 189.04it/s]"
     ]
    },
    {
     "name": "stdout",
     "output_type": "stream",
     "text": [
      "Convergence achieved at iteration 34...\n",
      "Proportion of non-zero elements for G_T and W: 0.9173789173789174, 0.9658119658119658\n",
      "Accuracy on iteration 8: 0.6210826210826211\n"
     ]
    },
    {
     "name": "stderr",
     "output_type": "stream",
     "text": [
      "\n",
      "  0%|          | 0/5000 [00:00<?, ?it/s]"
     ]
    },
    {
     "name": "stdout",
     "output_type": "stream",
     "text": [
      "Relative error at iteration 10: 0.0020993245931663616"
     ]
    },
    {
     "name": "stderr",
     "output_type": "stream",
     "text": [
      "  0%|          | 20/5000 [00:00<00:26, 187.30it/s]"
     ]
    },
    {
     "name": "stdout",
     "output_type": "stream",
     "text": [
      "\n"
     ]
    },
    {
     "name": "stderr",
     "output_type": "stream",
     "text": [
      "  1%|          | 34/5000 [00:00<00:27, 181.42it/s]"
     ]
    },
    {
     "name": "stdout",
     "output_type": "stream",
     "text": [
      "Relative error at iteration 20: 0.0003533896788895704\n",
      "Relative error at iteration 30: 0.0001300120866598159\n",
      "Convergence achieved at iteration 34...\n"
     ]
    },
    {
     "name": "stderr",
     "output_type": "stream",
     "text": [
      "\n"
     ]
    },
    {
     "name": "stdout",
     "output_type": "stream",
     "text": [
      "Proportion of non-zero elements for G_T and W: 0.9173789173789174, 0.9658119658119658\n",
      "Accuracy on iteration 9: 0.6210826210826211\n"
     ]
    },
    {
     "name": "stderr",
     "output_type": "stream",
     "text": [
      "  1%|          | 26/5000 [00:00<00:19, 257.04it/s]"
     ]
    },
    {
     "name": "stdout",
     "output_type": "stream",
     "text": [
      "Relative error at iteration 10: 0.002126421967671443\n",
      "Relative error at iteration 20: 0.0003553023703580548\n"
     ]
    },
    {
     "name": "stderr",
     "output_type": "stream",
     "text": [
      "  1%|          | 34/5000 [00:00<00:21, 228.80it/s]\n"
     ]
    },
    {
     "name": "stdout",
     "output_type": "stream",
     "text": [
      "Relative error at iteration 30: 0.00013011131771585487\n",
      "Convergence achieved at iteration 34...\n",
      "Proportion of non-zero elements for G_T and W: 0.9173789173789174, 0.9658119658119658\n",
      "Accuracy on iteration 10: 0.3789173789173789\n"
     ]
    },
    {
     "name": "stderr",
     "output_type": "stream",
     "text": [
      "  0%|          | 19/5000 [00:00<00:26, 189.05it/s]"
     ]
    },
    {
     "name": "stdout",
     "output_type": "stream",
     "text": [
      "Relative error at iteration 10: 0.002126421967671443\n",
      "Relative error at iteration 20: 0.00035530237035783755\n",
      "Relative error at iteration 30: 0.00013011131771585487\n"
     ]
    },
    {
     "name": "stderr",
     "output_type": "stream",
     "text": [
      "  1%|          | 34/5000 [00:00<00:27, 183.88it/s]\n"
     ]
    },
    {
     "name": "stdout",
     "output_type": "stream",
     "text": [
      "Convergence achieved at iteration 34...\n",
      "Proportion of non-zero elements for G_T and W: 0.9173789173789174, 0.9658119658119658\n",
      "Accuracy on iteration 11: 0.6210826210826211\n"
     ]
    },
    {
     "name": "stderr",
     "output_type": "stream",
     "text": [
      "  0%|          | 0/5000 [00:00<?, ?it/s]"
     ]
    },
    {
     "name": "stdout",
     "output_type": "stream",
     "text": [
      "Relative error at iteration 10: 0.0020993245931663616\n"
     ]
    },
    {
     "name": "stderr",
     "output_type": "stream",
     "text": [
      "  0%|          | 19/5000 [00:00<00:26, 186.43it/s]"
     ]
    },
    {
     "name": "stdout",
     "output_type": "stream",
     "text": [
      "Relative error at iteration 20: 0.0003533896788895704\n"
     ]
    },
    {
     "name": "stderr",
     "output_type": "stream",
     "text": [
      "  1%|          | 34/5000 [00:00<00:27, 181.01it/s]"
     ]
    },
    {
     "name": "stdout",
     "output_type": "stream",
     "text": [
      "Relative error at iteration 30: 0.00013001208666003376\n",
      "Convergence achieved at iteration 34...\n",
      "Proportion of non-zero elements for G_T and W: 0.9173789173789174, 0.9658119658119658\n",
      "Accuracy on iteration 12: 0.3789173789173789\n"
     ]
    },
    {
     "name": "stderr",
     "output_type": "stream",
     "text": [
      "\n",
      "  0%|          | 17/5000 [00:00<00:29, 169.30it/s]"
     ]
    },
    {
     "name": "stdout",
     "output_type": "stream",
     "text": [
      "Relative error at iteration 10: 0.002126421967671443\n",
      "Relative error at iteration 20: 0.0003553023703580548\n",
      "Relative error at iteration 30: 0.00013011131771585487\n"
     ]
    },
    {
     "name": "stderr",
     "output_type": "stream",
     "text": [
      "  1%|          | 34/5000 [00:00<00:25, 198.04it/s]\n"
     ]
    },
    {
     "name": "stdout",
     "output_type": "stream",
     "text": [
      "Convergence achieved at iteration 34...\n",
      "Proportion of non-zero elements for G_T and W: 0.9173789173789174, 0.9658119658119658\n",
      "Accuracy on iteration 13: 0.3789173789173789\n"
     ]
    },
    {
     "name": "stderr",
     "output_type": "stream",
     "text": [
      "  0%|          | 0/5000 [00:00<?, ?it/s]"
     ]
    },
    {
     "name": "stdout",
     "output_type": "stream",
     "text": [
      "Relative error at iteration 10: 0.002126421967671443\n"
     ]
    },
    {
     "name": "stderr",
     "output_type": "stream",
     "text": [
      "  0%|          | 20/5000 [00:00<00:26, 189.17it/s]"
     ]
    },
    {
     "name": "stdout",
     "output_type": "stream",
     "text": [
      "Relative error at iteration 20: 0.00035530237035783755\n",
      "Relative error at iteration 30: 0.00013011131771585487\n"
     ]
    },
    {
     "name": "stderr",
     "output_type": "stream",
     "text": [
      "  1%|          | 34/5000 [00:00<00:27, 178.40it/s]\n"
     ]
    },
    {
     "name": "stdout",
     "output_type": "stream",
     "text": [
      "Convergence achieved at iteration 34...\n",
      "Proportion of non-zero elements for G_T and W: 0.9173789173789174, 0.9658119658119658\n",
      "Accuracy on iteration 14: 0.6210826210826211\n"
     ]
    },
    {
     "name": "stderr",
     "output_type": "stream",
     "text": [
      "  0%|          | 21/5000 [00:00<00:24, 205.71it/s]"
     ]
    },
    {
     "name": "stdout",
     "output_type": "stream",
     "text": [
      "Relative error at iteration 10: 0.0020993245931663616\n",
      "Relative error at iteration 20: 0.0003533896788895704\n",
      "Relative error at iteration 30: 0.0001300120866598159\n"
     ]
    },
    {
     "name": "stderr",
     "output_type": "stream",
     "text": [
      "  1%|          | 34/5000 [00:00<00:27, 181.46it/s]\n"
     ]
    },
    {
     "name": "stdout",
     "output_type": "stream",
     "text": [
      "Convergence achieved at iteration 34...\n",
      "Proportion of non-zero elements for G_T and W: 0.9173789173789174, 0.9658119658119658\n",
      "Accuracy on iteration 15: 0.6210826210826211\n"
     ]
    },
    {
     "name": "stderr",
     "output_type": "stream",
     "text": [
      "  0%|          | 0/5000 [00:00<?, ?it/s]"
     ]
    },
    {
     "name": "stdout",
     "output_type": "stream",
     "text": [
      "Relative error at iteration 10: 0.0020993245931663616\n"
     ]
    },
    {
     "name": "stderr",
     "output_type": "stream",
     "text": [
      "  1%|          | 34/5000 [00:00<00:20, 243.65it/s]\n"
     ]
    },
    {
     "name": "stdout",
     "output_type": "stream",
     "text": [
      "Relative error at iteration 20: 0.0003533896788895704\n",
      "Relative error at iteration 30: 0.00013001208666003376\n",
      "Convergence achieved at iteration 34...\n",
      "Proportion of non-zero elements for G_T and W: 0.9173789173789174, 0.9658119658119658\n",
      "Accuracy on iteration 16: 0.3789173789173789\n"
     ]
    },
    {
     "name": "stderr",
     "output_type": "stream",
     "text": [
      "  1%|          | 33/5000 [00:00<00:15, 327.07it/s]"
     ]
    },
    {
     "name": "stdout",
     "output_type": "stream",
     "text": [
      "Relative error at iteration 10: 0.0020993245931663616\n",
      "Relative error at iteration 20: 0.0003533896788895704\n",
      "Relative error at iteration 30: 0.0001300120866598159\n"
     ]
    },
    {
     "name": "stderr",
     "output_type": "stream",
     "text": [
      "  1%|          | 34/5000 [00:00<00:16, 302.00it/s]\n"
     ]
    },
    {
     "name": "stdout",
     "output_type": "stream",
     "text": [
      "Convergence achieved at iteration 34...\n",
      "Proportion of non-zero elements for G_T and W: 0.9173789173789174, 0.9658119658119658\n",
      "Accuracy on iteration 17: 0.6210826210826211\n"
     ]
    },
    {
     "name": "stderr",
     "output_type": "stream",
     "text": [
      "  1%|          | 27/5000 [00:00<00:18, 266.44it/s]"
     ]
    },
    {
     "name": "stdout",
     "output_type": "stream",
     "text": [
      "Relative error at iteration 10: 0.0020993245931663616\n",
      "Relative error at iteration 20: 0.0003533896788895704\n",
      "Relative error at iteration 30: 0.0001300120866598159\n"
     ]
    },
    {
     "name": "stderr",
     "output_type": "stream",
     "text": [
      "  1%|          | 34/5000 [00:00<00:21, 234.26it/s]\n"
     ]
    },
    {
     "name": "stdout",
     "output_type": "stream",
     "text": [
      "Convergence achieved at iteration 34...\n",
      "Proportion of non-zero elements for G_T and W: 0.9173789173789174, 0.9658119658119658\n",
      "Accuracy on iteration 18: 0.6210826210826211\n"
     ]
    },
    {
     "name": "stderr",
     "output_type": "stream",
     "text": [
      "  0%|          | 18/5000 [00:00<00:28, 175.79it/s]"
     ]
    },
    {
     "name": "stdout",
     "output_type": "stream",
     "text": [
      "Relative error at iteration 10: 0.0020993245931663616\n",
      "Relative error at iteration 20: 0.0003533896788895704\n",
      "Relative error at iteration 30: 0.0001300120866598159\n",
      "Convergence achieved at iteration 34...\n"
     ]
    },
    {
     "name": "stderr",
     "output_type": "stream",
     "text": [
      "  1%|          | 34/5000 [00:00<00:27, 179.05it/s]\n"
     ]
    },
    {
     "name": "stdout",
     "output_type": "stream",
     "text": [
      "Proportion of non-zero elements for G_T and W: 0.9173789173789174, 0.9658119658119658\n",
      "Accuracy on iteration 19: 0.6210826210826211\n"
     ]
    },
    {
     "name": "stderr",
     "output_type": "stream",
     "text": [
      "  0%|          | 9/5000 [00:00<01:00, 82.67it/s]"
     ]
    },
    {
     "name": "stdout",
     "output_type": "stream",
     "text": [
      "Relative error at iteration 10: 0.002126421967671443\n",
      "Relative error at iteration 20: 0.0003553023703580548\n"
     ]
    },
    {
     "name": "stderr",
     "output_type": "stream",
     "text": [
      "  1%|          | 34/5000 [00:00<00:36, 135.06it/s]\n"
     ]
    },
    {
     "name": "stdout",
     "output_type": "stream",
     "text": [
      "Relative error at iteration 30: 0.00013011131771585487\n",
      "Convergence achieved at iteration 34...\n",
      "Proportion of non-zero elements for G_T and W: 0.9173789173789174, 0.9658119658119658\n",
      "Accuracy on iteration 20: 0.3789173789173789\n"
     ]
    },
    {
     "name": "stderr",
     "output_type": "stream",
     "text": [
      "  0%|          | 0/5000 [00:00<?, ?it/s]"
     ]
    },
    {
     "name": "stdout",
     "output_type": "stream",
     "text": [
      "Relative error at iteration 10: 0.0020993245931663616\n"
     ]
    },
    {
     "name": "stderr",
     "output_type": "stream",
     "text": [
      "  1%|          | 34/5000 [00:00<00:22, 217.65it/s]"
     ]
    },
    {
     "name": "stdout",
     "output_type": "stream",
     "text": [
      "Relative error at iteration 20: 0.0003533896788895704\n",
      "Relative error at iteration 30: 0.0001300120866598159\n",
      "Convergence achieved at iteration 34...\n",
      "Proportion of non-zero elements for G_T and W: 0.9173789173789174, 0.9658119658119658\n",
      "Accuracy on iteration 21: 0.6210826210826211\n"
     ]
    },
    {
     "name": "stderr",
     "output_type": "stream",
     "text": [
      "\n",
      "  0%|          | 0/5000 [00:00<?, ?it/s]"
     ]
    },
    {
     "name": "stdout",
     "output_type": "stream",
     "text": [
      "Relative error at iteration 10: 0.0020993245931663616\n"
     ]
    },
    {
     "name": "stderr",
     "output_type": "stream",
     "text": [
      "  1%|          | 34/5000 [00:00<00:30, 164.93it/s]\n"
     ]
    },
    {
     "name": "stdout",
     "output_type": "stream",
     "text": [
      "Relative error at iteration 20: 0.0003533896788895704\n",
      "Relative error at iteration 30: 0.00013001208666003376\n",
      "Convergence achieved at iteration 34...\n",
      "Proportion of non-zero elements for G_T and W: 0.9173789173789174, 0.9658119658119658\n",
      "Accuracy on iteration 22: 0.3789173789173789\n"
     ]
    },
    {
     "name": "stderr",
     "output_type": "stream",
     "text": [
      "  0%|          | 17/5000 [00:00<00:30, 162.78it/s]"
     ]
    },
    {
     "name": "stdout",
     "output_type": "stream",
     "text": [
      "Relative error at iteration 10: 0.0020993245931663616\n"
     ]
    },
    {
     "name": "stderr",
     "output_type": "stream",
     "text": [
      "  1%|          | 34/5000 [00:00<00:19, 248.73it/s]\n"
     ]
    },
    {
     "name": "stdout",
     "output_type": "stream",
     "text": [
      "Relative error at iteration 20: 0.0003533896788895704\n",
      "Relative error at iteration 30: 0.0001300120866598159\n",
      "Convergence achieved at iteration 34...\n",
      "Proportion of non-zero elements for G_T and W: 0.9173789173789174, 0.9658119658119658\n",
      "Accuracy on iteration 23: 0.6210826210826211\n"
     ]
    },
    {
     "name": "stderr",
     "output_type": "stream",
     "text": [
      "  1%|          | 34/5000 [00:00<00:11, 427.14it/s]\n"
     ]
    },
    {
     "name": "stdout",
     "output_type": "stream",
     "text": [
      "Relative error at iteration 10: 0.0020993245931663616\n",
      "Relative error at iteration 20: 0.0003533896788895704\n",
      "Relative error at iteration 30: 0.00013001208666003376\n",
      "Convergence achieved at iteration 34...\n",
      "Proportion of non-zero elements for G_T and W: 0.9173789173789174, 0.9658119658119658\n",
      "Accuracy on iteration 24: 0.3789173789173789\n"
     ]
    },
    {
     "name": "stderr",
     "output_type": "stream",
     "text": [
      "  0%|          | 0/5000 [00:00<?, ?it/s]"
     ]
    },
    {
     "name": "stdout",
     "output_type": "stream",
     "text": [
      "Relative error at iteration 10: 0.0020993245931663616\n"
     ]
    },
    {
     "name": "stderr",
     "output_type": "stream",
     "text": [
      "  0%|          | 17/5000 [00:00<00:30, 161.10it/s]"
     ]
    },
    {
     "name": "stdout",
     "output_type": "stream",
     "text": [
      "Relative error at iteration 20: 0.0003533896788895704\n"
     ]
    },
    {
     "name": "stderr",
     "output_type": "stream",
     "text": [
      "  1%|          | 34/5000 [00:00<00:32, 153.66it/s]\n"
     ]
    },
    {
     "name": "stdout",
     "output_type": "stream",
     "text": [
      "Relative error at iteration 30: 0.0001300120866598159\n",
      "Convergence achieved at iteration 34...\n",
      "Proportion of non-zero elements for G_T and W: 0.9173789173789174, 0.9658119658119658\n",
      "Accuracy on iteration 25: 0.6210826210826211\n"
     ]
    },
    {
     "name": "stderr",
     "output_type": "stream",
     "text": [
      "  0%|          | 0/5000 [00:00<?, ?it/s]"
     ]
    },
    {
     "name": "stdout",
     "output_type": "stream",
     "text": [
      "Relative error at iteration 10: 0.0020993245931663616\n"
     ]
    },
    {
     "name": "stderr",
     "output_type": "stream",
     "text": [
      "  0%|          | 17/5000 [00:00<00:30, 164.71it/s]"
     ]
    },
    {
     "name": "stdout",
     "output_type": "stream",
     "text": [
      "Relative error at iteration 20: 0.0003533896788895704\n"
     ]
    },
    {
     "name": "stderr",
     "output_type": "stream",
     "text": [
      "  1%|          | 34/5000 [00:00<00:30, 162.13it/s]\n"
     ]
    },
    {
     "name": "stdout",
     "output_type": "stream",
     "text": [
      "Relative error at iteration 30: 0.00013001208666003376\n",
      "Convergence achieved at iteration 34...\n",
      "Proportion of non-zero elements for G_T and W: 0.9173789173789174, 0.9658119658119658\n",
      "Accuracy on iteration 26: 0.3789173789173789\n"
     ]
    },
    {
     "name": "stderr",
     "output_type": "stream",
     "text": [
      "  0%|          | 16/5000 [00:00<00:31, 156.87it/s]"
     ]
    },
    {
     "name": "stdout",
     "output_type": "stream",
     "text": [
      "Relative error at iteration 10: 0.0020993245931663616\n",
      "Relative error at iteration 20: 0.0003533896788895704\n"
     ]
    },
    {
     "name": "stderr",
     "output_type": "stream",
     "text": [
      "  1%|          | 34/5000 [00:00<00:33, 146.37it/s]\n"
     ]
    },
    {
     "name": "stdout",
     "output_type": "stream",
     "text": [
      "Relative error at iteration 30: 0.0001300120866598159\n",
      "Convergence achieved at iteration 34...\n",
      "Proportion of non-zero elements for G_T and W: 0.9173789173789174, 0.9658119658119658\n",
      "Accuracy on iteration 27: 0.6210826210826211\n"
     ]
    },
    {
     "name": "stderr",
     "output_type": "stream",
     "text": [
      "  0%|          | 0/5000 [00:00<?, ?it/s]"
     ]
    },
    {
     "name": "stdout",
     "output_type": "stream",
     "text": [
      "Relative error at iteration 10: 0.0020993245931663616\n",
      "Relative error at iteration 20: 0.0003533896788895704\n",
      "Relative error at iteration 30: 0.00013001208666003376\n"
     ]
    },
    {
     "name": "stderr",
     "output_type": "stream",
     "text": [
      "  1%|          | 34/5000 [00:00<00:13, 371.39it/s]\n"
     ]
    },
    {
     "name": "stdout",
     "output_type": "stream",
     "text": [
      "Convergence achieved at iteration 34...\n",
      "Proportion of non-zero elements for G_T and W: 0.9173789173789174, 0.9658119658119658\n",
      "Accuracy on iteration 28: 0.3789173789173789\n"
     ]
    },
    {
     "name": "stderr",
     "output_type": "stream",
     "text": [
      "  0%|          | 0/5000 [00:00<?, ?it/s]"
     ]
    },
    {
     "name": "stdout",
     "output_type": "stream",
     "text": [
      "Relative error at iteration 10: 0.002126421967671443\n"
     ]
    },
    {
     "name": "stderr",
     "output_type": "stream",
     "text": [
      "  1%|          | 34/5000 [00:00<00:21, 229.48it/s]"
     ]
    },
    {
     "name": "stdout",
     "output_type": "stream",
     "text": [
      "Relative error at iteration 20: 0.00035530237035783755\n",
      "Relative error at iteration 30: 0.00013011131771585487\n",
      "Convergence achieved at iteration 34...\n",
      "Proportion of non-zero elements for G_T and W: 0.9173789173789174, 0.9658119658119658\n",
      "Accuracy on iteration 29: 0.6210826210826211\n"
     ]
    },
    {
     "name": "stderr",
     "output_type": "stream",
     "text": [
      "\n",
      "  0%|          | 0/5000 [00:00<?, ?it/s]"
     ]
    },
    {
     "name": "stdout",
     "output_type": "stream",
     "text": [
      "Relative error at iteration 10: 0.0020993245931663616\n"
     ]
    },
    {
     "name": "stderr",
     "output_type": "stream",
     "text": [
      "  0%|          | 20/5000 [00:00<00:25, 197.62it/s]"
     ]
    },
    {
     "name": "stdout",
     "output_type": "stream",
     "text": [
      "Relative error at iteration 20: 0.0003533896788895704\n"
     ]
    },
    {
     "name": "stderr",
     "output_type": "stream",
     "text": [
      "  1%|          | 34/5000 [00:00<00:28, 171.24it/s]\n"
     ]
    },
    {
     "name": "stdout",
     "output_type": "stream",
     "text": [
      "Relative error at iteration 30: 0.00013001208666003376\n",
      "Convergence achieved at iteration 34...\n",
      "Proportion of non-zero elements for G_T and W: 0.9173789173789174, 0.9658119658119658\n",
      "Accuracy on iteration 30: 0.3789173789173789\n"
     ]
    },
    {
     "name": "stderr",
     "output_type": "stream",
     "text": [
      "  0%|          | 0/5000 [00:00<?, ?it/s]"
     ]
    },
    {
     "name": "stdout",
     "output_type": "stream",
     "text": [
      "Relative error at iteration 10: 0.002126421967671443\n"
     ]
    },
    {
     "name": "stderr",
     "output_type": "stream",
     "text": [
      "  1%|          | 34/5000 [00:00<00:21, 234.13it/s]\n"
     ]
    },
    {
     "name": "stdout",
     "output_type": "stream",
     "text": [
      "Relative error at iteration 20: 0.00035530237035783755\n",
      "Relative error at iteration 30: 0.00013011131771585487\n",
      "Convergence achieved at iteration 34...\n",
      "Proportion of non-zero elements for G_T and W: 0.9173789173789174, 0.9658119658119658\n",
      "Accuracy on iteration 31: 0.6210826210826211\n"
     ]
    },
    {
     "name": "stderr",
     "output_type": "stream",
     "text": [
      "  0%|          | 0/5000 [00:00<?, ?it/s]"
     ]
    },
    {
     "name": "stdout",
     "output_type": "stream",
     "text": [
      "Relative error at iteration 10: 0.0020993245931663616\n"
     ]
    },
    {
     "name": "stderr",
     "output_type": "stream",
     "text": [
      "  0%|          | 17/5000 [00:00<00:30, 163.60it/s]"
     ]
    },
    {
     "name": "stdout",
     "output_type": "stream",
     "text": [
      "Relative error at iteration 20: 0.0003533896788895704\n",
      "Relative error at iteration 30: 0.0001300120866598159\n"
     ]
    },
    {
     "name": "stderr",
     "output_type": "stream",
     "text": [
      "  1%|          | 34/5000 [00:00<00:24, 204.31it/s]\n"
     ]
    },
    {
     "name": "stdout",
     "output_type": "stream",
     "text": [
      "Convergence achieved at iteration 34...\n",
      "Proportion of non-zero elements for G_T and W: 0.9173789173789174, 0.9658119658119658\n",
      "Accuracy on iteration 32: 0.6210826210826211\n"
     ]
    },
    {
     "name": "stderr",
     "output_type": "stream",
     "text": [
      "  0%|          | 0/5000 [00:00<?, ?it/s]"
     ]
    },
    {
     "name": "stdout",
     "output_type": "stream",
     "text": [
      "Relative error at iteration 10: 0.0020993245931663616\n"
     ]
    },
    {
     "name": "stderr",
     "output_type": "stream",
     "text": [
      "  0%|          | 19/5000 [00:00<00:26, 187.89it/s]"
     ]
    },
    {
     "name": "stdout",
     "output_type": "stream",
     "text": [
      "Relative error at iteration 20: 0.0003533896788895704\n",
      "Relative error at iteration 30: 0.00013001208666003376\n"
     ]
    },
    {
     "name": "stderr",
     "output_type": "stream",
     "text": [
      "  1%|          | 34/5000 [00:00<00:30, 165.43it/s]\n"
     ]
    },
    {
     "name": "stdout",
     "output_type": "stream",
     "text": [
      "Convergence achieved at iteration 34...\n",
      "Proportion of non-zero elements for G_T and W: 0.9173789173789174, 0.9658119658119658\n",
      "Accuracy on iteration 33: 0.3789173789173789\n"
     ]
    },
    {
     "name": "stderr",
     "output_type": "stream",
     "text": [
      "  0%|          | 0/5000 [00:00<?, ?it/s]"
     ]
    },
    {
     "name": "stdout",
     "output_type": "stream",
     "text": [
      "Relative error at iteration 10: 0.0020993245931663616\n",
      "Relative error at iteration 20: 0.0003533896788895704\n",
      "Relative error at iteration 30: 0.00013001208666003376\n"
     ]
    },
    {
     "name": "stderr",
     "output_type": "stream",
     "text": [
      "  1%|          | 34/5000 [00:00<00:16, 294.68it/s]\n"
     ]
    },
    {
     "name": "stdout",
     "output_type": "stream",
     "text": [
      "Convergence achieved at iteration 34...\n",
      "Proportion of non-zero elements for G_T and W: 0.9173789173789174, 0.9658119658119658\n",
      "Accuracy on iteration 34: 0.3789173789173789\n"
     ]
    },
    {
     "name": "stderr",
     "output_type": "stream",
     "text": [
      "  0%|          | 0/5000 [00:00<?, ?it/s]"
     ]
    },
    {
     "name": "stdout",
     "output_type": "stream",
     "text": [
      "Relative error at iteration 10: 0.0020993245931663616\n"
     ]
    },
    {
     "name": "stderr",
     "output_type": "stream",
     "text": [
      "  1%|          | 27/5000 [00:00<00:19, 256.24it/s]"
     ]
    },
    {
     "name": "stdout",
     "output_type": "stream",
     "text": [
      "Relative error at iteration 20: 0.0003533896788895704\n"
     ]
    },
    {
     "name": "stderr",
     "output_type": "stream",
     "text": [
      "  1%|          | 34/5000 [00:00<00:22, 222.15it/s]"
     ]
    },
    {
     "name": "stdout",
     "output_type": "stream",
     "text": [
      "Relative error at iteration 30: 0.0001300120866598159\n",
      "Convergence achieved at iteration 34...\n",
      "Proportion of non-zero elements for G_T and W: 0.9173789173789174, 0.9658119658119658\n",
      "Accuracy on iteration 35: 0.6210826210826211\n"
     ]
    },
    {
     "name": "stderr",
     "output_type": "stream",
     "text": [
      "\n",
      "  0%|          | 0/5000 [00:00<?, ?it/s]"
     ]
    },
    {
     "name": "stdout",
     "output_type": "stream",
     "text": [
      "Relative error at iteration 10: 0.002126421967671443\n"
     ]
    },
    {
     "name": "stderr",
     "output_type": "stream",
     "text": [
      "  1%|          | 27/5000 [00:00<00:18, 268.55it/s]"
     ]
    },
    {
     "name": "stdout",
     "output_type": "stream",
     "text": [
      "Relative error at iteration 20: 0.0003553023703580548\n"
     ]
    },
    {
     "name": "stderr",
     "output_type": "stream",
     "text": [
      "  1%|          | 34/5000 [00:00<00:17, 290.81it/s]\n"
     ]
    },
    {
     "name": "stdout",
     "output_type": "stream",
     "text": [
      "Relative error at iteration 30: 0.00013011131771585487\n",
      "Convergence achieved at iteration 34...\n",
      "Proportion of non-zero elements for G_T and W: 0.9173789173789174, 0.9658119658119658\n",
      "Accuracy on iteration 36: 0.3789173789173789\n"
     ]
    },
    {
     "name": "stderr",
     "output_type": "stream",
     "text": [
      "  0%|          | 0/5000 [00:00<?, ?it/s]"
     ]
    },
    {
     "name": "stdout",
     "output_type": "stream",
     "text": [
      "Relative error at iteration 10: 0.0020993245931663616\n"
     ]
    },
    {
     "name": "stderr",
     "output_type": "stream",
     "text": [
      "  1%|          | 34/5000 [00:00<00:14, 349.77it/s]\n"
     ]
    },
    {
     "name": "stdout",
     "output_type": "stream",
     "text": [
      "Relative error at iteration 20: 0.0003533896788895704\n",
      "Relative error at iteration 30: 0.00013001208666003376\n",
      "Convergence achieved at iteration 34...\n",
      "Proportion of non-zero elements for G_T and W: 0.9173789173789174, 0.9658119658119658\n",
      "Accuracy on iteration 37: 0.3789173789173789\n"
     ]
    },
    {
     "name": "stderr",
     "output_type": "stream",
     "text": [
      "  0%|          | 0/5000 [00:00<?, ?it/s]"
     ]
    },
    {
     "name": "stdout",
     "output_type": "stream",
     "text": [
      "Relative error at iteration 10: 0.0020993245931663616\n"
     ]
    },
    {
     "name": "stderr",
     "output_type": "stream",
     "text": [
      "  0%|          | 18/5000 [00:00<00:28, 173.32it/s]"
     ]
    },
    {
     "name": "stdout",
     "output_type": "stream",
     "text": [
      "Relative error at iteration 20: 0.0003533896788895704\n"
     ]
    },
    {
     "name": "stderr",
     "output_type": "stream",
     "text": [
      "  1%|          | 34/5000 [00:00<00:28, 174.84it/s]\n"
     ]
    },
    {
     "name": "stdout",
     "output_type": "stream",
     "text": [
      "Relative error at iteration 30: 0.00013001208666003376\n",
      "Convergence achieved at iteration 34...\n",
      "Proportion of non-zero elements for G_T and W: 0.9173789173789174, 0.9658119658119658\n",
      "Accuracy on iteration 38: 0.3789173789173789\n"
     ]
    },
    {
     "name": "stderr",
     "output_type": "stream",
     "text": [
      "  0%|          | 0/5000 [00:00<?, ?it/s]"
     ]
    },
    {
     "name": "stdout",
     "output_type": "stream",
     "text": [
      "Relative error at iteration 10: 0.0020993245931663616\n"
     ]
    },
    {
     "name": "stderr",
     "output_type": "stream",
     "text": [
      "  0%|          | 24/5000 [00:00<00:21, 232.49it/s]"
     ]
    },
    {
     "name": "stdout",
     "output_type": "stream",
     "text": [
      "Relative error at iteration 20: 0.0003533896788895704\n"
     ]
    },
    {
     "name": "stderr",
     "output_type": "stream",
     "text": [
      "  1%|          | 34/5000 [00:00<00:19, 254.36it/s]\n"
     ]
    },
    {
     "name": "stdout",
     "output_type": "stream",
     "text": [
      "Relative error at iteration 30: 0.00013001208666003376\n",
      "Convergence achieved at iteration 34...\n",
      "Proportion of non-zero elements for G_T and W: 0.9173789173789174, 0.9658119658119658\n",
      "Accuracy on iteration 39: 0.3789173789173789\n"
     ]
    },
    {
     "name": "stderr",
     "output_type": "stream",
     "text": [
      "  0%|          | 0/5000 [00:00<?, ?it/s]"
     ]
    },
    {
     "name": "stdout",
     "output_type": "stream",
     "text": [
      "Relative error at iteration 10: 0.0020993245931663616\n"
     ]
    },
    {
     "name": "stderr",
     "output_type": "stream",
     "text": [
      "  0%|          | 15/5000 [00:00<00:34, 144.41it/s]"
     ]
    },
    {
     "name": "stdout",
     "output_type": "stream",
     "text": [
      "Relative error at iteration 20: 0.0003533896788895704\n"
     ]
    },
    {
     "name": "stderr",
     "output_type": "stream",
     "text": [
      "  1%|          | 34/5000 [00:00<00:31, 158.09it/s]\n"
     ]
    },
    {
     "name": "stdout",
     "output_type": "stream",
     "text": [
      "Relative error at iteration 30: 0.0001300120866598159\n",
      "Convergence achieved at iteration 34...\n",
      "Proportion of non-zero elements for G_T and W: 0.9173789173789174, 0.9658119658119658\n",
      "Accuracy on iteration 40: 0.6210826210826211\n"
     ]
    },
    {
     "name": "stderr",
     "output_type": "stream",
     "text": [
      "  0%|          | 18/5000 [00:00<00:28, 173.28it/s]"
     ]
    },
    {
     "name": "stdout",
     "output_type": "stream",
     "text": [
      "Relative error at iteration 10: 0.002126421967671443\n",
      "Relative error at iteration 20: 0.0003553023703580548\n"
     ]
    },
    {
     "name": "stderr",
     "output_type": "stream",
     "text": [
      "  1%|          | 34/5000 [00:00<00:29, 170.39it/s]\n"
     ]
    },
    {
     "name": "stdout",
     "output_type": "stream",
     "text": [
      "Relative error at iteration 30: 0.00013011131771585487\n",
      "Convergence achieved at iteration 34...\n",
      "Proportion of non-zero elements for G_T and W: 0.9173789173789174, 0.9658119658119658\n",
      "Accuracy on iteration 41: 0.3789173789173789\n"
     ]
    },
    {
     "name": "stderr",
     "output_type": "stream",
     "text": [
      "  0%|          | 0/5000 [00:00<?, ?it/s]"
     ]
    },
    {
     "name": "stdout",
     "output_type": "stream",
     "text": [
      "Relative error at iteration 10: 0.0020993245931663616\n"
     ]
    },
    {
     "name": "stderr",
     "output_type": "stream",
     "text": [
      "  0%|          | 21/5000 [00:00<00:24, 202.19it/s]"
     ]
    },
    {
     "name": "stdout",
     "output_type": "stream",
     "text": [
      "Relative error at iteration 20: 0.0003533896788895704\n",
      "Relative error at iteration 30: 0.0001300120866598159\n"
     ]
    },
    {
     "name": "stderr",
     "output_type": "stream",
     "text": [
      "  1%|          | 34/5000 [00:00<00:27, 181.15it/s]\n"
     ]
    },
    {
     "name": "stdout",
     "output_type": "stream",
     "text": [
      "Convergence achieved at iteration 34...\n",
      "Proportion of non-zero elements for G_T and W: 0.9173789173789174, 0.9658119658119658\n",
      "Accuracy on iteration 42: 0.6210826210826211\n"
     ]
    },
    {
     "name": "stderr",
     "output_type": "stream",
     "text": [
      "  0%|          | 18/5000 [00:00<00:28, 175.66it/s]"
     ]
    },
    {
     "name": "stdout",
     "output_type": "stream",
     "text": [
      "Relative error at iteration 10: 0.0008213653297625511\n",
      "Relative error at iteration 20: 0.0005485310407248677\n",
      "Relative error at iteration 30: 0.0020229322683386125\n"
     ]
    },
    {
     "name": "stderr",
     "output_type": "stream",
     "text": [
      "  1%|          | 36/5000 [00:00<00:28, 176.60it/s]"
     ]
    },
    {
     "name": "stdout",
     "output_type": "stream",
     "text": [
      "Relative error at iteration 40: 0.005683924640747635\n"
     ]
    },
    {
     "name": "stderr",
     "output_type": "stream",
     "text": [
      "  1%|          | 54/5000 [00:00<00:27, 177.65it/s]"
     ]
    },
    {
     "name": "stdout",
     "output_type": "stream",
     "text": [
      "Relative error at iteration 50: 0.004802611264660186\n",
      "Relative error at iteration 60: 0.0012780715549267764\n"
     ]
    },
    {
     "name": "stderr",
     "output_type": "stream",
     "text": [
      "  1%|▏         | 72/5000 [00:00<00:27, 177.60it/s]"
     ]
    },
    {
     "name": "stdout",
     "output_type": "stream",
     "text": [
      "Relative error at iteration 70: 0.0009641120436766915\n",
      "Relative error at iteration 80: 0.0010343208500346512\n"
     ]
    },
    {
     "name": "stderr",
     "output_type": "stream",
     "text": [
      "  2%|▏         | 90/5000 [00:00<00:30, 159.76it/s]"
     ]
    },
    {
     "name": "stdout",
     "output_type": "stream",
     "text": [
      "Relative error at iteration 90: 0.0003750400867416045\n",
      "Relative error at iteration 100: 0.00017666134976590116\n"
     ]
    },
    {
     "name": "stderr",
     "output_type": "stream",
     "text": [
      "  2%|▏         | 110/5000 [00:00<00:28, 172.14it/s]"
     ]
    },
    {
     "name": "stdout",
     "output_type": "stream",
     "text": [
      "Relative error at iteration 110: 0.0003031246586471678\n"
     ]
    },
    {
     "name": "stderr",
     "output_type": "stream",
     "text": [
      "  3%|▎         | 128/5000 [00:00<00:28, 172.38it/s]"
     ]
    },
    {
     "name": "stdout",
     "output_type": "stream",
     "text": [
      "Relative error at iteration 120: 0.0001992969099587676\n",
      "Relative error at iteration 130: 0.0001524410171958007\n"
     ]
    },
    {
     "name": "stderr",
     "output_type": "stream",
     "text": [
      "  3%|▎         | 134/5000 [00:00<00:28, 168.71it/s]\n"
     ]
    },
    {
     "name": "stdout",
     "output_type": "stream",
     "text": [
      "Convergence achieved at iteration 134...\n",
      "Proportion of non-zero elements for G_T and W: 0.8646723646723646, 0.9230769230769231\n",
      "Accuracy on iteration 43: 0.4045584045584046\n"
     ]
    },
    {
     "name": "stderr",
     "output_type": "stream",
     "text": [
      "  0%|          | 0/5000 [00:00<?, ?it/s]"
     ]
    },
    {
     "name": "stdout",
     "output_type": "stream",
     "text": [
      "Relative error at iteration 10: 0.002126421967671443\n"
     ]
    },
    {
     "name": "stderr",
     "output_type": "stream",
     "text": [
      "  0%|          | 18/5000 [00:00<00:27, 178.14it/s]"
     ]
    },
    {
     "name": "stdout",
     "output_type": "stream",
     "text": [
      "Relative error at iteration 20: 0.0003553023703580548\n",
      "Relative error at iteration 30: 0.00013011131771585487\n"
     ]
    },
    {
     "name": "stderr",
     "output_type": "stream",
     "text": [
      "  1%|          | 34/5000 [00:00<00:29, 167.16it/s]\n"
     ]
    },
    {
     "name": "stdout",
     "output_type": "stream",
     "text": [
      "Convergence achieved at iteration 34...\n",
      "Proportion of non-zero elements for G_T and W: 0.9173789173789174, 0.9658119658119658\n",
      "Accuracy on iteration 44: 0.3789173789173789\n"
     ]
    },
    {
     "name": "stderr",
     "output_type": "stream",
     "text": [
      "  0%|          | 18/5000 [00:00<00:28, 176.26it/s]"
     ]
    },
    {
     "name": "stdout",
     "output_type": "stream",
     "text": [
      "Relative error at iteration 10: 0.0020993245931663616\n",
      "Relative error at iteration 20: 0.0003533896788895704\n",
      "Relative error at iteration 30: 0.00013001208666003376\n"
     ]
    },
    {
     "name": "stderr",
     "output_type": "stream",
     "text": [
      "  1%|          | 34/5000 [00:00<00:26, 186.71it/s]"
     ]
    },
    {
     "name": "stdout",
     "output_type": "stream",
     "text": [
      "Convergence achieved at iteration 34...\n",
      "Proportion of non-zero elements for G_T and W: 0.9173789173789174, 0.9658119658119658\n",
      "Accuracy on iteration 45: 0.3789173789173789\n"
     ]
    },
    {
     "name": "stderr",
     "output_type": "stream",
     "text": [
      "\n",
      "  0%|          | 0/5000 [00:00<?, ?it/s]"
     ]
    },
    {
     "name": "stdout",
     "output_type": "stream",
     "text": [
      "Relative error at iteration 10: 0.0020993245931663616\n"
     ]
    },
    {
     "name": "stderr",
     "output_type": "stream",
     "text": [
      "  0%|          | 18/5000 [00:00<00:28, 176.92it/s]"
     ]
    },
    {
     "name": "stdout",
     "output_type": "stream",
     "text": [
      "Relative error at iteration 20: 0.0003533896788895704\n",
      "Relative error at iteration 30: 0.00013001208666003376\n"
     ]
    },
    {
     "name": "stderr",
     "output_type": "stream",
     "text": [
      "  1%|          | 34/5000 [00:00<00:29, 166.66it/s]\n"
     ]
    },
    {
     "name": "stdout",
     "output_type": "stream",
     "text": [
      "Convergence achieved at iteration 34...\n",
      "Proportion of non-zero elements for G_T and W: 0.9173789173789174, 0.9658119658119658\n",
      "Accuracy on iteration 46: 0.3789173789173789\n"
     ]
    },
    {
     "name": "stderr",
     "output_type": "stream",
     "text": [
      "  0%|          | 18/5000 [00:00<00:27, 179.01it/s]"
     ]
    },
    {
     "name": "stdout",
     "output_type": "stream",
     "text": [
      "Relative error at iteration 10: 0.0020993245931663616\n"
     ]
    },
    {
     "name": "stderr",
     "output_type": "stream",
     "text": [
      "  1%|          | 34/5000 [00:00<00:23, 212.69it/s]\n"
     ]
    },
    {
     "name": "stdout",
     "output_type": "stream",
     "text": [
      "Relative error at iteration 20: 0.0003533896788895704\n",
      "Relative error at iteration 30: 0.0001300120866598159\n",
      "Convergence achieved at iteration 34...\n",
      "Proportion of non-zero elements for G_T and W: 0.9173789173789174, 0.9658119658119658\n",
      "Accuracy on iteration 47: 0.6210826210826211\n"
     ]
    },
    {
     "name": "stderr",
     "output_type": "stream",
     "text": [
      "  0%|          | 0/5000 [00:00<?, ?it/s]"
     ]
    },
    {
     "name": "stdout",
     "output_type": "stream",
     "text": [
      "Relative error at iteration 10: 0.0020993245931663616\n"
     ]
    },
    {
     "name": "stderr",
     "output_type": "stream",
     "text": [
      "  0%|          | 18/5000 [00:00<00:27, 178.18it/s]"
     ]
    },
    {
     "name": "stdout",
     "output_type": "stream",
     "text": [
      "Relative error at iteration 20: 0.0003533896788895704\n"
     ]
    },
    {
     "name": "stderr",
     "output_type": "stream",
     "text": [
      "  1%|          | 34/5000 [00:00<00:30, 164.52it/s]\n"
     ]
    },
    {
     "name": "stdout",
     "output_type": "stream",
     "text": [
      "Relative error at iteration 30: 0.00013001208666003376\n",
      "Convergence achieved at iteration 34...\n",
      "Proportion of non-zero elements for G_T and W: 0.9173789173789174, 0.9658119658119658\n",
      "Accuracy on iteration 48: 0.3789173789173789\n"
     ]
    },
    {
     "name": "stderr",
     "output_type": "stream",
     "text": [
      "  0%|          | 0/5000 [00:00<?, ?it/s]"
     ]
    },
    {
     "name": "stdout",
     "output_type": "stream",
     "text": [
      "Relative error at iteration 10: 0.0020993245931663616\n"
     ]
    },
    {
     "name": "stderr",
     "output_type": "stream",
     "text": [
      "  0%|          | 16/5000 [00:00<00:31, 156.68it/s]"
     ]
    },
    {
     "name": "stdout",
     "output_type": "stream",
     "text": [
      "Relative error at iteration 20: 0.0003533896788895704\n",
      "Relative error at iteration 30: 0.00013001208666003376\n"
     ]
    },
    {
     "name": "stderr",
     "output_type": "stream",
     "text": [
      "  1%|          | 34/5000 [00:00<00:26, 184.94it/s]"
     ]
    },
    {
     "name": "stdout",
     "output_type": "stream",
     "text": [
      "Convergence achieved at iteration 34...\n",
      "Proportion of non-zero elements for G_T and W: 0.9173789173789174, 0.9658119658119658\n",
      "Accuracy on iteration 49: 0.3789173789173789\n",
      "Average accuracy: 0.48113960113960114\n"
     ]
    },
    {
     "name": "stderr",
     "output_type": "stream",
     "text": [
      "\n"
     ]
    }
   ],
   "source": [
    "convex_nmf_clustering_accuracies = []\n",
    "for i in range(0, 50):\n",
    "    F, W, G_T, residual_vector = convex_nmf(X = np.array(X.T), r=2, tol=1e-4, max_iter=5000, random_state=random_state * i)\n",
    "    G_T_sparse, num_non_zero_G = compute_sparsity(G_T)\n",
    "    W_sparse, num_non_zero_W = compute_sparsity(W)\n",
    "    print(f'Proportion of non-zero elements for G_T and W: {num_non_zero_G}, {num_non_zero_W}')\n",
    "    convex_nmf_clusters = [0 if G_T[0, i] > G_T[1, i] else 1 for i in range(351)]\n",
    "    #plot_confusion_matrix(y_true = y, y_pred = convex_nmf_clusters, normalize = True)\n",
    "    accuracy = accuracy_score(y_true=y, y_pred=convex_nmf_clusters)\n",
    "    print(f'Accuracy on iteration {i}: {accuracy}')\n",
    "    convex_nmf_clustering_accuracies.append(accuracy)\n",
    "\n",
    "print(f'Average accuracy: {np.mean(convex_nmf_clustering_accuracies)}')"
   ]
  },
  {
   "cell_type": "code",
   "execution_count": 6,
   "id": "aede6f14",
   "metadata": {},
   "outputs": [
    {
     "data": {
      "image/png": "[encoded data removed]",
      "text/plain": [
       "<Figure size 640x480 with 1 Axes>"
      ]
     },
     "metadata": {},
     "output_type": "display_data"
    }
   ],
   "source": [
    "plt.plot(residual_vector)\n",
    "plt.xlabel('Number of Iterations')\n",
    "plt.ylabel('Residual || X - XWG^T ||_{F}^2')\n",
    "plt.show()"
   ]
  }
 ],
 "metadata": {
  "kernelspec": {
   "display_name": ".venv",
   "language": "python",
   "name": "python3"
  },
  "language_info": {
   "codemirror_mode": {
    "name": "ipython",
    "version": 3
   },
   "file_extension": ".py",
   "mimetype": "text/x-python",
   "name": "python",
   "nbconvert_exporter": "python",
   "pygments_lexer": "ipython3",
   "version": "3.10.5"
  }
 },
 "nbformat": 4,
 "nbformat_minor": 5
}
